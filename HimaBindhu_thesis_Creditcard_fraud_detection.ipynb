{
 "cells": [
  {
   "cell_type": "code",
   "execution_count": null,
   "metadata": {
    "id": "bFxrDtfWnWqb"
   },
   "outputs": [],
   "source": []
  },
  {
   "cell_type": "code",
   "execution_count": 1,
   "metadata": {
    "colab": {
     "base_uri": "https://localhost:8080/"
    },
    "id": "pEgIIzEMoOrz",
    "outputId": "e46bfa8c-da55-453e-ebfb-0965a38b62fa"
   },
   "outputs": [
    {
     "name": "stdout",
     "output_type": "stream",
     "text": [
      "Mounted at /content/drive\n"
     ]
    }
   ],
   "source": [
    "#importing data from google drive to google colab\n",
    "from google.colab import drive\n",
    "drive.mount('/content/drive')"
   ]
  },
  {
   "cell_type": "code",
   "execution_count": 2,
   "metadata": {
    "id": "LQywtwPBoQSu"
   },
   "outputs": [],
   "source": [
    "#importing all required libraries numpy: mathematical operations, Pandas: dataframes, Matplotlib and seaborn : Visualisation\n",
    "import numpy as np\n",
    "import pandas as pd\n",
    "import matplotlib.pyplot as plt\n",
    "import seaborn as sns"
   ]
  },
  {
   "cell_type": "code",
   "execution_count": 3,
   "metadata": {
    "id": "rlNIYKoNoXis"
   },
   "outputs": [],
   "source": [
    "#laoding data by giving drive path and loading into df \n",
    "df = pd.read_csv(\"/content/drive/MyDrive/train_transaction.csv\")"
   ]
  },
  {
   "cell_type": "code",
   "execution_count": 4,
   "metadata": {
    "colab": {
     "base_uri": "https://localhost:8080/",
     "height": 236
    },
    "id": "TJfL1-9LonsR",
    "outputId": "68f3e88f-d636-4321-fec1-d98c30053398"
   },
   "outputs": [
    {
     "data": {
      "text/html": [
       "\n",
       "  <div id=\"df-8f980639-2394-4ca0-98aa-a03dd417b159\">\n",
       "    <div class=\"colab-df-container\">\n",
       "      <div>\n",
       "<style scoped>\n",
       "    .dataframe tbody tr th:only-of-type {\n",
       "        vertical-align: middle;\n",
       "    }\n",
       "\n",
       "    .dataframe tbody tr th {\n",
       "        vertical-align: top;\n",
       "    }\n",
       "\n",
       "    .dataframe thead th {\n",
       "        text-align: right;\n",
       "    }\n",
       "</style>\n",
       "<table border=\"1\" class=\"dataframe\">\n",
       "  <thead>\n",
       "    <tr style=\"text-align: right;\">\n",
       "      <th></th>\n",
       "      <th>TransactionID</th>\n",
       "      <th>isFraud</th>\n",
       "      <th>TransactionDT</th>\n",
       "      <th>TransactionAmt</th>\n",
       "      <th>ProductCD</th>\n",
       "      <th>card1</th>\n",
       "      <th>card2</th>\n",
       "      <th>card3</th>\n",
       "      <th>card4</th>\n",
       "      <th>card5</th>\n",
       "      <th>...</th>\n",
       "      <th>V330</th>\n",
       "      <th>V331</th>\n",
       "      <th>V332</th>\n",
       "      <th>V333</th>\n",
       "      <th>V334</th>\n",
       "      <th>V335</th>\n",
       "      <th>V336</th>\n",
       "      <th>V337</th>\n",
       "      <th>V338</th>\n",
       "      <th>V339</th>\n",
       "    </tr>\n",
       "  </thead>\n",
       "  <tbody>\n",
       "    <tr>\n",
       "      <th>0</th>\n",
       "      <td>2987000</td>\n",
       "      <td>0</td>\n",
       "      <td>86400</td>\n",
       "      <td>68.5</td>\n",
       "      <td>W</td>\n",
       "      <td>13926</td>\n",
       "      <td>NaN</td>\n",
       "      <td>150.0</td>\n",
       "      <td>discover</td>\n",
       "      <td>142.0</td>\n",
       "      <td>...</td>\n",
       "      <td>NaN</td>\n",
       "      <td>NaN</td>\n",
       "      <td>NaN</td>\n",
       "      <td>NaN</td>\n",
       "      <td>NaN</td>\n",
       "      <td>NaN</td>\n",
       "      <td>NaN</td>\n",
       "      <td>NaN</td>\n",
       "      <td>NaN</td>\n",
       "      <td>NaN</td>\n",
       "    </tr>\n",
       "    <tr>\n",
       "      <th>1</th>\n",
       "      <td>2987001</td>\n",
       "      <td>0</td>\n",
       "      <td>86401</td>\n",
       "      <td>29.0</td>\n",
       "      <td>W</td>\n",
       "      <td>2755</td>\n",
       "      <td>404.0</td>\n",
       "      <td>150.0</td>\n",
       "      <td>mastercard</td>\n",
       "      <td>102.0</td>\n",
       "      <td>...</td>\n",
       "      <td>NaN</td>\n",
       "      <td>NaN</td>\n",
       "      <td>NaN</td>\n",
       "      <td>NaN</td>\n",
       "      <td>NaN</td>\n",
       "      <td>NaN</td>\n",
       "      <td>NaN</td>\n",
       "      <td>NaN</td>\n",
       "      <td>NaN</td>\n",
       "      <td>NaN</td>\n",
       "    </tr>\n",
       "    <tr>\n",
       "      <th>2</th>\n",
       "      <td>2987002</td>\n",
       "      <td>0</td>\n",
       "      <td>86469</td>\n",
       "      <td>59.0</td>\n",
       "      <td>W</td>\n",
       "      <td>4663</td>\n",
       "      <td>490.0</td>\n",
       "      <td>150.0</td>\n",
       "      <td>visa</td>\n",
       "      <td>166.0</td>\n",
       "      <td>...</td>\n",
       "      <td>NaN</td>\n",
       "      <td>NaN</td>\n",
       "      <td>NaN</td>\n",
       "      <td>NaN</td>\n",
       "      <td>NaN</td>\n",
       "      <td>NaN</td>\n",
       "      <td>NaN</td>\n",
       "      <td>NaN</td>\n",
       "      <td>NaN</td>\n",
       "      <td>NaN</td>\n",
       "    </tr>\n",
       "    <tr>\n",
       "      <th>3</th>\n",
       "      <td>2987003</td>\n",
       "      <td>0</td>\n",
       "      <td>86499</td>\n",
       "      <td>50.0</td>\n",
       "      <td>W</td>\n",
       "      <td>18132</td>\n",
       "      <td>567.0</td>\n",
       "      <td>150.0</td>\n",
       "      <td>mastercard</td>\n",
       "      <td>117.0</td>\n",
       "      <td>...</td>\n",
       "      <td>NaN</td>\n",
       "      <td>NaN</td>\n",
       "      <td>NaN</td>\n",
       "      <td>NaN</td>\n",
       "      <td>NaN</td>\n",
       "      <td>NaN</td>\n",
       "      <td>NaN</td>\n",
       "      <td>NaN</td>\n",
       "      <td>NaN</td>\n",
       "      <td>NaN</td>\n",
       "    </tr>\n",
       "    <tr>\n",
       "      <th>4</th>\n",
       "      <td>2987004</td>\n",
       "      <td>0</td>\n",
       "      <td>86506</td>\n",
       "      <td>50.0</td>\n",
       "      <td>H</td>\n",
       "      <td>4497</td>\n",
       "      <td>514.0</td>\n",
       "      <td>150.0</td>\n",
       "      <td>mastercard</td>\n",
       "      <td>102.0</td>\n",
       "      <td>...</td>\n",
       "      <td>0.0</td>\n",
       "      <td>0.0</td>\n",
       "      <td>0.0</td>\n",
       "      <td>0.0</td>\n",
       "      <td>0.0</td>\n",
       "      <td>0.0</td>\n",
       "      <td>0.0</td>\n",
       "      <td>0.0</td>\n",
       "      <td>0.0</td>\n",
       "      <td>0.0</td>\n",
       "    </tr>\n",
       "  </tbody>\n",
       "</table>\n",
       "<p>5 rows × 394 columns</p>\n",
       "</div>\n",
       "      <button class=\"colab-df-convert\" onclick=\"convertToInteractive('df-8f980639-2394-4ca0-98aa-a03dd417b159')\"\n",
       "              title=\"Convert this dataframe to an interactive table.\"\n",
       "              style=\"display:none;\">\n",
       "        \n",
       "  <svg xmlns=\"http://www.w3.org/2000/svg\" height=\"24px\"viewBox=\"0 0 24 24\"\n",
       "       width=\"24px\">\n",
       "    <path d=\"M0 0h24v24H0V0z\" fill=\"none\"/>\n",
       "    <path d=\"M18.56 5.44l.94 2.06.94-2.06 2.06-.94-2.06-.94-.94-2.06-.94 2.06-2.06.94zm-11 1L8.5 8.5l.94-2.06 2.06-.94-2.06-.94L8.5 2.5l-.94 2.06-2.06.94zm10 10l.94 2.06.94-2.06 2.06-.94-2.06-.94-.94-2.06-.94 2.06-2.06.94z\"/><path d=\"M17.41 7.96l-1.37-1.37c-.4-.4-.92-.59-1.43-.59-.52 0-1.04.2-1.43.59L10.3 9.45l-7.72 7.72c-.78.78-.78 2.05 0 2.83L4 21.41c.39.39.9.59 1.41.59.51 0 1.02-.2 1.41-.59l7.78-7.78 2.81-2.81c.8-.78.8-2.07 0-2.86zM5.41 20L4 18.59l7.72-7.72 1.47 1.35L5.41 20z\"/>\n",
       "  </svg>\n",
       "      </button>\n",
       "      \n",
       "  <style>\n",
       "    .colab-df-container {\n",
       "      display:flex;\n",
       "      flex-wrap:wrap;\n",
       "      gap: 12px;\n",
       "    }\n",
       "\n",
       "    .colab-df-convert {\n",
       "      background-color: #E8F0FE;\n",
       "      border: none;\n",
       "      border-radius: 50%;\n",
       "      cursor: pointer;\n",
       "      display: none;\n",
       "      fill: #1967D2;\n",
       "      height: 32px;\n",
       "      padding: 0 0 0 0;\n",
       "      width: 32px;\n",
       "    }\n",
       "\n",
       "    .colab-df-convert:hover {\n",
       "      background-color: #E2EBFA;\n",
       "      box-shadow: 0px 1px 2px rgba(60, 64, 67, 0.3), 0px 1px 3px 1px rgba(60, 64, 67, 0.15);\n",
       "      fill: #174EA6;\n",
       "    }\n",
       "\n",
       "    [theme=dark] .colab-df-convert {\n",
       "      background-color: #3B4455;\n",
       "      fill: #D2E3FC;\n",
       "    }\n",
       "\n",
       "    [theme=dark] .colab-df-convert:hover {\n",
       "      background-color: #434B5C;\n",
       "      box-shadow: 0px 1px 3px 1px rgba(0, 0, 0, 0.15);\n",
       "      filter: drop-shadow(0px 1px 2px rgba(0, 0, 0, 0.3));\n",
       "      fill: #FFFFFF;\n",
       "    }\n",
       "  </style>\n",
       "\n",
       "      <script>\n",
       "        const buttonEl =\n",
       "          document.querySelector('#df-8f980639-2394-4ca0-98aa-a03dd417b159 button.colab-df-convert');\n",
       "        buttonEl.style.display =\n",
       "          google.colab.kernel.accessAllowed ? 'block' : 'none';\n",
       "\n",
       "        async function convertToInteractive(key) {\n",
       "          const element = document.querySelector('#df-8f980639-2394-4ca0-98aa-a03dd417b159');\n",
       "          const dataTable =\n",
       "            await google.colab.kernel.invokeFunction('convertToInteractive',\n",
       "                                                     [key], {});\n",
       "          if (!dataTable) return;\n",
       "\n",
       "          const docLinkHtml = 'Like what you see? Visit the ' +\n",
       "            '<a target=\"_blank\" href=https://colab.research.google.com/notebooks/data_table.ipynb>data table notebook</a>'\n",
       "            + ' to learn more about interactive tables.';\n",
       "          element.innerHTML = '';\n",
       "          dataTable['output_type'] = 'display_data';\n",
       "          await google.colab.output.renderOutput(dataTable, element);\n",
       "          const docLink = document.createElement('div');\n",
       "          docLink.innerHTML = docLinkHtml;\n",
       "          element.appendChild(docLink);\n",
       "        }\n",
       "      </script>\n",
       "    </div>\n",
       "  </div>\n",
       "  "
      ],
      "text/plain": [
       "   TransactionID  isFraud  TransactionDT  TransactionAmt ProductCD  card1  \\\n",
       "0        2987000        0          86400            68.5         W  13926   \n",
       "1        2987001        0          86401            29.0         W   2755   \n",
       "2        2987002        0          86469            59.0         W   4663   \n",
       "3        2987003        0          86499            50.0         W  18132   \n",
       "4        2987004        0          86506            50.0         H   4497   \n",
       "\n",
       "   card2  card3       card4  card5  ... V330  V331  V332  V333  V334 V335  \\\n",
       "0    NaN  150.0    discover  142.0  ...  NaN   NaN   NaN   NaN   NaN  NaN   \n",
       "1  404.0  150.0  mastercard  102.0  ...  NaN   NaN   NaN   NaN   NaN  NaN   \n",
       "2  490.0  150.0        visa  166.0  ...  NaN   NaN   NaN   NaN   NaN  NaN   \n",
       "3  567.0  150.0  mastercard  117.0  ...  NaN   NaN   NaN   NaN   NaN  NaN   \n",
       "4  514.0  150.0  mastercard  102.0  ...  0.0   0.0   0.0   0.0   0.0  0.0   \n",
       "\n",
       "  V336  V337  V338  V339  \n",
       "0  NaN   NaN   NaN   NaN  \n",
       "1  NaN   NaN   NaN   NaN  \n",
       "2  NaN   NaN   NaN   NaN  \n",
       "3  NaN   NaN   NaN   NaN  \n",
       "4  0.0   0.0   0.0   0.0  \n",
       "\n",
       "[5 rows x 394 columns]"
      ]
     },
     "execution_count": 4,
     "metadata": {},
     "output_type": "execute_result"
    }
   ],
   "source": [
    "df.head()#display few records"
   ]
  },
  {
   "cell_type": "code",
   "execution_count": 5,
   "metadata": {
    "colab": {
     "base_uri": "https://localhost:8080/"
    },
    "id": "avAE2EM0z_5m",
    "outputId": "7665c1ca-6426-4c64-f6ce-cda0fc3c85c9"
   },
   "outputs": [
    {
     "data": {
      "text/plain": [
       "(590540, 394)"
      ]
     },
     "execution_count": 5,
     "metadata": {},
     "output_type": "execute_result"
    }
   ],
   "source": [
    "df.shape "
   ]
  },
  {
   "cell_type": "code",
   "execution_count": 6,
   "metadata": {
    "colab": {
     "base_uri": "https://localhost:8080/"
    },
    "id": "pyLjai5rR_bH",
    "outputId": "72446f7d-1acf-4b6c-a231-75010ba2540c"
   },
   "outputs": [
    {
     "data": {
      "text/plain": [
       "TransactionID          0\n",
       "isFraud                0\n",
       "TransactionDT          0\n",
       "TransactionAmt         0\n",
       "ProductCD              0\n",
       "                   ...  \n",
       "V335              508189\n",
       "V336              508189\n",
       "V337              508189\n",
       "V338              508189\n",
       "V339              508189\n",
       "Length: 394, dtype: int64"
      ]
     },
     "execution_count": 6,
     "metadata": {},
     "output_type": "execute_result"
    }
   ],
   "source": [
    "df.isnull().sum()"
   ]
  },
  {
   "cell_type": "code",
   "execution_count": 7,
   "metadata": {
    "colab": {
     "base_uri": "https://localhost:8080/",
     "height": 141
    },
    "id": "QLxNcsDkSKzL",
    "outputId": "3a04c179-fee5-4b72-c008-525083552ead"
   },
   "outputs": [
    {
     "data": {
      "text/html": [
       "\n",
       "  <div id=\"df-a2b1f726-6a15-4644-a854-b0af4690bc78\">\n",
       "    <div class=\"colab-df-container\">\n",
       "      <div>\n",
       "<style scoped>\n",
       "    .dataframe tbody tr th:only-of-type {\n",
       "        vertical-align: middle;\n",
       "    }\n",
       "\n",
       "    .dataframe tbody tr th {\n",
       "        vertical-align: top;\n",
       "    }\n",
       "\n",
       "    .dataframe thead th {\n",
       "        text-align: right;\n",
       "    }\n",
       "</style>\n",
       "<table border=\"1\" class=\"dataframe\">\n",
       "  <thead>\n",
       "    <tr style=\"text-align: right;\">\n",
       "      <th></th>\n",
       "      <th>dist2</th>\n",
       "      <th>D7</th>\n",
       "      <th>D13</th>\n",
       "      <th>D14</th>\n",
       "      <th>D12</th>\n",
       "      <th>D6</th>\n",
       "      <th>D9</th>\n",
       "      <th>D8</th>\n",
       "      <th>V153</th>\n",
       "      <th>V139</th>\n",
       "      <th>...</th>\n",
       "      <th>C9</th>\n",
       "      <th>C10</th>\n",
       "      <th>C11</th>\n",
       "      <th>C12</th>\n",
       "      <th>C13</th>\n",
       "      <th>C1</th>\n",
       "      <th>C2</th>\n",
       "      <th>C14</th>\n",
       "      <th>isFraud</th>\n",
       "      <th>TransactionID</th>\n",
       "    </tr>\n",
       "  </thead>\n",
       "  <tbody>\n",
       "    <tr>\n",
       "      <th>Total</th>\n",
       "      <td>552913.000000</td>\n",
       "      <td>551623.00000</td>\n",
       "      <td>528588.000000</td>\n",
       "      <td>528353.000000</td>\n",
       "      <td>525823.000000</td>\n",
       "      <td>517353.000000</td>\n",
       "      <td>515614.00000</td>\n",
       "      <td>515614.00000</td>\n",
       "      <td>508595.000000</td>\n",
       "      <td>508595.000000</td>\n",
       "      <td>...</td>\n",
       "      <td>0.0</td>\n",
       "      <td>0.0</td>\n",
       "      <td>0.0</td>\n",
       "      <td>0.0</td>\n",
       "      <td>0.0</td>\n",
       "      <td>0.0</td>\n",
       "      <td>0.0</td>\n",
       "      <td>0.0</td>\n",
       "      <td>0.0</td>\n",
       "      <td>0.0</td>\n",
       "    </tr>\n",
       "    <tr>\n",
       "      <th>Percent</th>\n",
       "      <td>93.628374</td>\n",
       "      <td>93.40993</td>\n",
       "      <td>89.509263</td>\n",
       "      <td>89.469469</td>\n",
       "      <td>89.041047</td>\n",
       "      <td>87.606767</td>\n",
       "      <td>87.31229</td>\n",
       "      <td>87.31229</td>\n",
       "      <td>86.123717</td>\n",
       "      <td>86.123717</td>\n",
       "      <td>...</td>\n",
       "      <td>0.0</td>\n",
       "      <td>0.0</td>\n",
       "      <td>0.0</td>\n",
       "      <td>0.0</td>\n",
       "      <td>0.0</td>\n",
       "      <td>0.0</td>\n",
       "      <td>0.0</td>\n",
       "      <td>0.0</td>\n",
       "      <td>0.0</td>\n",
       "      <td>0.0</td>\n",
       "    </tr>\n",
       "  </tbody>\n",
       "</table>\n",
       "<p>2 rows × 394 columns</p>\n",
       "</div>\n",
       "      <button class=\"colab-df-convert\" onclick=\"convertToInteractive('df-a2b1f726-6a15-4644-a854-b0af4690bc78')\"\n",
       "              title=\"Convert this dataframe to an interactive table.\"\n",
       "              style=\"display:none;\">\n",
       "        \n",
       "  <svg xmlns=\"http://www.w3.org/2000/svg\" height=\"24px\"viewBox=\"0 0 24 24\"\n",
       "       width=\"24px\">\n",
       "    <path d=\"M0 0h24v24H0V0z\" fill=\"none\"/>\n",
       "    <path d=\"M18.56 5.44l.94 2.06.94-2.06 2.06-.94-2.06-.94-.94-2.06-.94 2.06-2.06.94zm-11 1L8.5 8.5l.94-2.06 2.06-.94-2.06-.94L8.5 2.5l-.94 2.06-2.06.94zm10 10l.94 2.06.94-2.06 2.06-.94-2.06-.94-.94-2.06-.94 2.06-2.06.94z\"/><path d=\"M17.41 7.96l-1.37-1.37c-.4-.4-.92-.59-1.43-.59-.52 0-1.04.2-1.43.59L10.3 9.45l-7.72 7.72c-.78.78-.78 2.05 0 2.83L4 21.41c.39.39.9.59 1.41.59.51 0 1.02-.2 1.41-.59l7.78-7.78 2.81-2.81c.8-.78.8-2.07 0-2.86zM5.41 20L4 18.59l7.72-7.72 1.47 1.35L5.41 20z\"/>\n",
       "  </svg>\n",
       "      </button>\n",
       "      \n",
       "  <style>\n",
       "    .colab-df-container {\n",
       "      display:flex;\n",
       "      flex-wrap:wrap;\n",
       "      gap: 12px;\n",
       "    }\n",
       "\n",
       "    .colab-df-convert {\n",
       "      background-color: #E8F0FE;\n",
       "      border: none;\n",
       "      border-radius: 50%;\n",
       "      cursor: pointer;\n",
       "      display: none;\n",
       "      fill: #1967D2;\n",
       "      height: 32px;\n",
       "      padding: 0 0 0 0;\n",
       "      width: 32px;\n",
       "    }\n",
       "\n",
       "    .colab-df-convert:hover {\n",
       "      background-color: #E2EBFA;\n",
       "      box-shadow: 0px 1px 2px rgba(60, 64, 67, 0.3), 0px 1px 3px 1px rgba(60, 64, 67, 0.15);\n",
       "      fill: #174EA6;\n",
       "    }\n",
       "\n",
       "    [theme=dark] .colab-df-convert {\n",
       "      background-color: #3B4455;\n",
       "      fill: #D2E3FC;\n",
       "    }\n",
       "\n",
       "    [theme=dark] .colab-df-convert:hover {\n",
       "      background-color: #434B5C;\n",
       "      box-shadow: 0px 1px 3px 1px rgba(0, 0, 0, 0.15);\n",
       "      filter: drop-shadow(0px 1px 2px rgba(0, 0, 0, 0.3));\n",
       "      fill: #FFFFFF;\n",
       "    }\n",
       "  </style>\n",
       "\n",
       "      <script>\n",
       "        const buttonEl =\n",
       "          document.querySelector('#df-a2b1f726-6a15-4644-a854-b0af4690bc78 button.colab-df-convert');\n",
       "        buttonEl.style.display =\n",
       "          google.colab.kernel.accessAllowed ? 'block' : 'none';\n",
       "\n",
       "        async function convertToInteractive(key) {\n",
       "          const element = document.querySelector('#df-a2b1f726-6a15-4644-a854-b0af4690bc78');\n",
       "          const dataTable =\n",
       "            await google.colab.kernel.invokeFunction('convertToInteractive',\n",
       "                                                     [key], {});\n",
       "          if (!dataTable) return;\n",
       "\n",
       "          const docLinkHtml = 'Like what you see? Visit the ' +\n",
       "            '<a target=\"_blank\" href=https://colab.research.google.com/notebooks/data_table.ipynb>data table notebook</a>'\n",
       "            + ' to learn more about interactive tables.';\n",
       "          element.innerHTML = '';\n",
       "          dataTable['output_type'] = 'display_data';\n",
       "          await google.colab.output.renderOutput(dataTable, element);\n",
       "          const docLink = document.createElement('div');\n",
       "          docLink.innerHTML = docLinkHtml;\n",
       "          element.appendChild(docLink);\n",
       "        }\n",
       "      </script>\n",
       "    </div>\n",
       "  </div>\n",
       "  "
      ],
      "text/plain": [
       "                 dist2            D7            D13            D14  \\\n",
       "Total    552913.000000  551623.00000  528588.000000  528353.000000   \n",
       "Percent      93.628374      93.40993      89.509263      89.469469   \n",
       "\n",
       "                   D12             D6            D9            D8  \\\n",
       "Total    525823.000000  517353.000000  515614.00000  515614.00000   \n",
       "Percent      89.041047      87.606767      87.31229      87.31229   \n",
       "\n",
       "                  V153           V139  ...   C9  C10  C11  C12  C13   C1   C2  \\\n",
       "Total    508595.000000  508595.000000  ...  0.0  0.0  0.0  0.0  0.0  0.0  0.0   \n",
       "Percent      86.123717      86.123717  ...  0.0  0.0  0.0  0.0  0.0  0.0  0.0   \n",
       "\n",
       "         C14  isFraud  TransactionID  \n",
       "Total    0.0      0.0            0.0  \n",
       "Percent  0.0      0.0            0.0  \n",
       "\n",
       "[2 rows x 394 columns]"
      ]
     },
     "execution_count": 7,
     "metadata": {},
     "output_type": "execute_result"
    }
   ],
   "source": [
    "total = df.isnull().sum().sort_values(ascending = False)\n",
    "percent = (df.isnull().sum()/df.isnull().count()*100).sort_values(ascending = False)\n",
    "pd.concat([total, percent], axis=1, keys=['Total', 'Percent']).transpose()"
   ]
  },
  {
   "cell_type": "code",
   "execution_count": 8,
   "metadata": {
    "colab": {
     "base_uri": "https://localhost:8080/"
    },
    "id": "H96Hqg_LSS1T",
    "outputId": "f68c09b1-caea-45ef-ea92-4f8aff845586"
   },
   "outputs": [
    {
     "name": "stdout",
     "output_type": "stream",
     "text": [
      "<class 'pandas.core.frame.DataFrame'>\n",
      "RangeIndex: 590540 entries, 0 to 590539\n",
      "Columns: 394 entries, TransactionID to V339\n",
      "dtypes: float64(376), int64(4), object(14)\n",
      "memory usage: 1.7+ GB\n"
     ]
    }
   ],
   "source": [
    "df.info()"
   ]
  },
  {
   "cell_type": "code",
   "execution_count": 9,
   "metadata": {
    "colab": {
     "base_uri": "https://localhost:8080/",
     "height": 394
    },
    "id": "KfriEuJiSWAK",
    "outputId": "d858d721-977e-4363-e602-aa318477b6c2"
   },
   "outputs": [
    {
     "data": {
      "text/html": [
       "\n",
       "  <div id=\"df-2db3e333-13a0-4941-ab75-da1d4f6ca474\">\n",
       "    <div class=\"colab-df-container\">\n",
       "      <div>\n",
       "<style scoped>\n",
       "    .dataframe tbody tr th:only-of-type {\n",
       "        vertical-align: middle;\n",
       "    }\n",
       "\n",
       "    .dataframe tbody tr th {\n",
       "        vertical-align: top;\n",
       "    }\n",
       "\n",
       "    .dataframe thead th {\n",
       "        text-align: right;\n",
       "    }\n",
       "</style>\n",
       "<table border=\"1\" class=\"dataframe\">\n",
       "  <thead>\n",
       "    <tr style=\"text-align: right;\">\n",
       "      <th></th>\n",
       "      <th>TransactionID</th>\n",
       "      <th>isFraud</th>\n",
       "      <th>TransactionDT</th>\n",
       "      <th>TransactionAmt</th>\n",
       "      <th>card1</th>\n",
       "      <th>card2</th>\n",
       "      <th>card3</th>\n",
       "      <th>card5</th>\n",
       "      <th>addr1</th>\n",
       "      <th>addr2</th>\n",
       "      <th>...</th>\n",
       "      <th>V330</th>\n",
       "      <th>V331</th>\n",
       "      <th>V332</th>\n",
       "      <th>V333</th>\n",
       "      <th>V334</th>\n",
       "      <th>V335</th>\n",
       "      <th>V336</th>\n",
       "      <th>V337</th>\n",
       "      <th>V338</th>\n",
       "      <th>V339</th>\n",
       "    </tr>\n",
       "  </thead>\n",
       "  <tbody>\n",
       "    <tr>\n",
       "      <th>count</th>\n",
       "      <td>5.905400e+05</td>\n",
       "      <td>590540.000000</td>\n",
       "      <td>5.905400e+05</td>\n",
       "      <td>590540.000000</td>\n",
       "      <td>590540.000000</td>\n",
       "      <td>581607.000000</td>\n",
       "      <td>588975.000000</td>\n",
       "      <td>586281.000000</td>\n",
       "      <td>524834.000000</td>\n",
       "      <td>524834.000000</td>\n",
       "      <td>...</td>\n",
       "      <td>82351.000000</td>\n",
       "      <td>82351.000000</td>\n",
       "      <td>82351.000000</td>\n",
       "      <td>82351.000000</td>\n",
       "      <td>82351.000000</td>\n",
       "      <td>82351.00000</td>\n",
       "      <td>82351.000000</td>\n",
       "      <td>82351.000000</td>\n",
       "      <td>82351.000000</td>\n",
       "      <td>82351.000000</td>\n",
       "    </tr>\n",
       "    <tr>\n",
       "      <th>mean</th>\n",
       "      <td>3.282270e+06</td>\n",
       "      <td>0.034990</td>\n",
       "      <td>7.372311e+06</td>\n",
       "      <td>135.027176</td>\n",
       "      <td>9898.734658</td>\n",
       "      <td>362.555488</td>\n",
       "      <td>153.194925</td>\n",
       "      <td>199.278897</td>\n",
       "      <td>290.733794</td>\n",
       "      <td>86.800630</td>\n",
       "      <td>...</td>\n",
       "      <td>0.775874</td>\n",
       "      <td>721.741883</td>\n",
       "      <td>1375.783644</td>\n",
       "      <td>1014.622782</td>\n",
       "      <td>9.807015</td>\n",
       "      <td>59.16455</td>\n",
       "      <td>28.530903</td>\n",
       "      <td>55.352422</td>\n",
       "      <td>151.160542</td>\n",
       "      <td>100.700882</td>\n",
       "    </tr>\n",
       "    <tr>\n",
       "      <th>std</th>\n",
       "      <td>1.704744e+05</td>\n",
       "      <td>0.183755</td>\n",
       "      <td>4.617224e+06</td>\n",
       "      <td>239.162522</td>\n",
       "      <td>4901.170153</td>\n",
       "      <td>157.793246</td>\n",
       "      <td>11.336444</td>\n",
       "      <td>41.244453</td>\n",
       "      <td>101.741072</td>\n",
       "      <td>2.690623</td>\n",
       "      <td>...</td>\n",
       "      <td>4.727971</td>\n",
       "      <td>6217.223583</td>\n",
       "      <td>11169.275702</td>\n",
       "      <td>7955.735482</td>\n",
       "      <td>243.861391</td>\n",
       "      <td>387.62948</td>\n",
       "      <td>274.576920</td>\n",
       "      <td>668.486833</td>\n",
       "      <td>1095.034387</td>\n",
       "      <td>814.946722</td>\n",
       "    </tr>\n",
       "    <tr>\n",
       "      <th>min</th>\n",
       "      <td>2.987000e+06</td>\n",
       "      <td>0.000000</td>\n",
       "      <td>8.640000e+04</td>\n",
       "      <td>0.251000</td>\n",
       "      <td>1000.000000</td>\n",
       "      <td>100.000000</td>\n",
       "      <td>100.000000</td>\n",
       "      <td>100.000000</td>\n",
       "      <td>100.000000</td>\n",
       "      <td>10.000000</td>\n",
       "      <td>...</td>\n",
       "      <td>0.000000</td>\n",
       "      <td>0.000000</td>\n",
       "      <td>0.000000</td>\n",
       "      <td>0.000000</td>\n",
       "      <td>0.000000</td>\n",
       "      <td>0.00000</td>\n",
       "      <td>0.000000</td>\n",
       "      <td>0.000000</td>\n",
       "      <td>0.000000</td>\n",
       "      <td>0.000000</td>\n",
       "    </tr>\n",
       "    <tr>\n",
       "      <th>25%</th>\n",
       "      <td>3.134635e+06</td>\n",
       "      <td>0.000000</td>\n",
       "      <td>3.027058e+06</td>\n",
       "      <td>43.321000</td>\n",
       "      <td>6019.000000</td>\n",
       "      <td>214.000000</td>\n",
       "      <td>150.000000</td>\n",
       "      <td>166.000000</td>\n",
       "      <td>204.000000</td>\n",
       "      <td>87.000000</td>\n",
       "      <td>...</td>\n",
       "      <td>0.000000</td>\n",
       "      <td>0.000000</td>\n",
       "      <td>0.000000</td>\n",
       "      <td>0.000000</td>\n",
       "      <td>0.000000</td>\n",
       "      <td>0.00000</td>\n",
       "      <td>0.000000</td>\n",
       "      <td>0.000000</td>\n",
       "      <td>0.000000</td>\n",
       "      <td>0.000000</td>\n",
       "    </tr>\n",
       "    <tr>\n",
       "      <th>50%</th>\n",
       "      <td>3.282270e+06</td>\n",
       "      <td>0.000000</td>\n",
       "      <td>7.306528e+06</td>\n",
       "      <td>68.769000</td>\n",
       "      <td>9678.000000</td>\n",
       "      <td>361.000000</td>\n",
       "      <td>150.000000</td>\n",
       "      <td>226.000000</td>\n",
       "      <td>299.000000</td>\n",
       "      <td>87.000000</td>\n",
       "      <td>...</td>\n",
       "      <td>0.000000</td>\n",
       "      <td>0.000000</td>\n",
       "      <td>0.000000</td>\n",
       "      <td>0.000000</td>\n",
       "      <td>0.000000</td>\n",
       "      <td>0.00000</td>\n",
       "      <td>0.000000</td>\n",
       "      <td>0.000000</td>\n",
       "      <td>0.000000</td>\n",
       "      <td>0.000000</td>\n",
       "    </tr>\n",
       "    <tr>\n",
       "      <th>75%</th>\n",
       "      <td>3.429904e+06</td>\n",
       "      <td>0.000000</td>\n",
       "      <td>1.124662e+07</td>\n",
       "      <td>125.000000</td>\n",
       "      <td>14184.000000</td>\n",
       "      <td>512.000000</td>\n",
       "      <td>150.000000</td>\n",
       "      <td>226.000000</td>\n",
       "      <td>330.000000</td>\n",
       "      <td>87.000000</td>\n",
       "      <td>...</td>\n",
       "      <td>0.000000</td>\n",
       "      <td>0.000000</td>\n",
       "      <td>25.000000</td>\n",
       "      <td>0.000000</td>\n",
       "      <td>0.000000</td>\n",
       "      <td>0.00000</td>\n",
       "      <td>0.000000</td>\n",
       "      <td>0.000000</td>\n",
       "      <td>0.000000</td>\n",
       "      <td>0.000000</td>\n",
       "    </tr>\n",
       "    <tr>\n",
       "      <th>max</th>\n",
       "      <td>3.577539e+06</td>\n",
       "      <td>1.000000</td>\n",
       "      <td>1.581113e+07</td>\n",
       "      <td>31937.391000</td>\n",
       "      <td>18396.000000</td>\n",
       "      <td>600.000000</td>\n",
       "      <td>231.000000</td>\n",
       "      <td>237.000000</td>\n",
       "      <td>540.000000</td>\n",
       "      <td>102.000000</td>\n",
       "      <td>...</td>\n",
       "      <td>55.000000</td>\n",
       "      <td>160000.000000</td>\n",
       "      <td>160000.000000</td>\n",
       "      <td>160000.000000</td>\n",
       "      <td>55125.000000</td>\n",
       "      <td>55125.00000</td>\n",
       "      <td>55125.000000</td>\n",
       "      <td>104060.000000</td>\n",
       "      <td>104060.000000</td>\n",
       "      <td>104060.000000</td>\n",
       "    </tr>\n",
       "  </tbody>\n",
       "</table>\n",
       "<p>8 rows × 380 columns</p>\n",
       "</div>\n",
       "      <button class=\"colab-df-convert\" onclick=\"convertToInteractive('df-2db3e333-13a0-4941-ab75-da1d4f6ca474')\"\n",
       "              title=\"Convert this dataframe to an interactive table.\"\n",
       "              style=\"display:none;\">\n",
       "        \n",
       "  <svg xmlns=\"http://www.w3.org/2000/svg\" height=\"24px\"viewBox=\"0 0 24 24\"\n",
       "       width=\"24px\">\n",
       "    <path d=\"M0 0h24v24H0V0z\" fill=\"none\"/>\n",
       "    <path d=\"M18.56 5.44l.94 2.06.94-2.06 2.06-.94-2.06-.94-.94-2.06-.94 2.06-2.06.94zm-11 1L8.5 8.5l.94-2.06 2.06-.94-2.06-.94L8.5 2.5l-.94 2.06-2.06.94zm10 10l.94 2.06.94-2.06 2.06-.94-2.06-.94-.94-2.06-.94 2.06-2.06.94z\"/><path d=\"M17.41 7.96l-1.37-1.37c-.4-.4-.92-.59-1.43-.59-.52 0-1.04.2-1.43.59L10.3 9.45l-7.72 7.72c-.78.78-.78 2.05 0 2.83L4 21.41c.39.39.9.59 1.41.59.51 0 1.02-.2 1.41-.59l7.78-7.78 2.81-2.81c.8-.78.8-2.07 0-2.86zM5.41 20L4 18.59l7.72-7.72 1.47 1.35L5.41 20z\"/>\n",
       "  </svg>\n",
       "      </button>\n",
       "      \n",
       "  <style>\n",
       "    .colab-df-container {\n",
       "      display:flex;\n",
       "      flex-wrap:wrap;\n",
       "      gap: 12px;\n",
       "    }\n",
       "\n",
       "    .colab-df-convert {\n",
       "      background-color: #E8F0FE;\n",
       "      border: none;\n",
       "      border-radius: 50%;\n",
       "      cursor: pointer;\n",
       "      display: none;\n",
       "      fill: #1967D2;\n",
       "      height: 32px;\n",
       "      padding: 0 0 0 0;\n",
       "      width: 32px;\n",
       "    }\n",
       "\n",
       "    .colab-df-convert:hover {\n",
       "      background-color: #E2EBFA;\n",
       "      box-shadow: 0px 1px 2px rgba(60, 64, 67, 0.3), 0px 1px 3px 1px rgba(60, 64, 67, 0.15);\n",
       "      fill: #174EA6;\n",
       "    }\n",
       "\n",
       "    [theme=dark] .colab-df-convert {\n",
       "      background-color: #3B4455;\n",
       "      fill: #D2E3FC;\n",
       "    }\n",
       "\n",
       "    [theme=dark] .colab-df-convert:hover {\n",
       "      background-color: #434B5C;\n",
       "      box-shadow: 0px 1px 3px 1px rgba(0, 0, 0, 0.15);\n",
       "      filter: drop-shadow(0px 1px 2px rgba(0, 0, 0, 0.3));\n",
       "      fill: #FFFFFF;\n",
       "    }\n",
       "  </style>\n",
       "\n",
       "      <script>\n",
       "        const buttonEl =\n",
       "          document.querySelector('#df-2db3e333-13a0-4941-ab75-da1d4f6ca474 button.colab-df-convert');\n",
       "        buttonEl.style.display =\n",
       "          google.colab.kernel.accessAllowed ? 'block' : 'none';\n",
       "\n",
       "        async function convertToInteractive(key) {\n",
       "          const element = document.querySelector('#df-2db3e333-13a0-4941-ab75-da1d4f6ca474');\n",
       "          const dataTable =\n",
       "            await google.colab.kernel.invokeFunction('convertToInteractive',\n",
       "                                                     [key], {});\n",
       "          if (!dataTable) return;\n",
       "\n",
       "          const docLinkHtml = 'Like what you see? Visit the ' +\n",
       "            '<a target=\"_blank\" href=https://colab.research.google.com/notebooks/data_table.ipynb>data table notebook</a>'\n",
       "            + ' to learn more about interactive tables.';\n",
       "          element.innerHTML = '';\n",
       "          dataTable['output_type'] = 'display_data';\n",
       "          await google.colab.output.renderOutput(dataTable, element);\n",
       "          const docLink = document.createElement('div');\n",
       "          docLink.innerHTML = docLinkHtml;\n",
       "          element.appendChild(docLink);\n",
       "        }\n",
       "      </script>\n",
       "    </div>\n",
       "  </div>\n",
       "  "
      ],
      "text/plain": [
       "       TransactionID        isFraud  TransactionDT  TransactionAmt  \\\n",
       "count   5.905400e+05  590540.000000   5.905400e+05   590540.000000   \n",
       "mean    3.282270e+06       0.034990   7.372311e+06      135.027176   \n",
       "std     1.704744e+05       0.183755   4.617224e+06      239.162522   \n",
       "min     2.987000e+06       0.000000   8.640000e+04        0.251000   \n",
       "25%     3.134635e+06       0.000000   3.027058e+06       43.321000   \n",
       "50%     3.282270e+06       0.000000   7.306528e+06       68.769000   \n",
       "75%     3.429904e+06       0.000000   1.124662e+07      125.000000   \n",
       "max     3.577539e+06       1.000000   1.581113e+07    31937.391000   \n",
       "\n",
       "               card1          card2          card3          card5  \\\n",
       "count  590540.000000  581607.000000  588975.000000  586281.000000   \n",
       "mean     9898.734658     362.555488     153.194925     199.278897   \n",
       "std      4901.170153     157.793246      11.336444      41.244453   \n",
       "min      1000.000000     100.000000     100.000000     100.000000   \n",
       "25%      6019.000000     214.000000     150.000000     166.000000   \n",
       "50%      9678.000000     361.000000     150.000000     226.000000   \n",
       "75%     14184.000000     512.000000     150.000000     226.000000   \n",
       "max     18396.000000     600.000000     231.000000     237.000000   \n",
       "\n",
       "               addr1          addr2  ...          V330           V331  \\\n",
       "count  524834.000000  524834.000000  ...  82351.000000   82351.000000   \n",
       "mean      290.733794      86.800630  ...      0.775874     721.741883   \n",
       "std       101.741072       2.690623  ...      4.727971    6217.223583   \n",
       "min       100.000000      10.000000  ...      0.000000       0.000000   \n",
       "25%       204.000000      87.000000  ...      0.000000       0.000000   \n",
       "50%       299.000000      87.000000  ...      0.000000       0.000000   \n",
       "75%       330.000000      87.000000  ...      0.000000       0.000000   \n",
       "max       540.000000     102.000000  ...     55.000000  160000.000000   \n",
       "\n",
       "                V332           V333          V334         V335          V336  \\\n",
       "count   82351.000000   82351.000000  82351.000000  82351.00000  82351.000000   \n",
       "mean     1375.783644    1014.622782      9.807015     59.16455     28.530903   \n",
       "std     11169.275702    7955.735482    243.861391    387.62948    274.576920   \n",
       "min         0.000000       0.000000      0.000000      0.00000      0.000000   \n",
       "25%         0.000000       0.000000      0.000000      0.00000      0.000000   \n",
       "50%         0.000000       0.000000      0.000000      0.00000      0.000000   \n",
       "75%        25.000000       0.000000      0.000000      0.00000      0.000000   \n",
       "max    160000.000000  160000.000000  55125.000000  55125.00000  55125.000000   \n",
       "\n",
       "                V337           V338           V339  \n",
       "count   82351.000000   82351.000000   82351.000000  \n",
       "mean       55.352422     151.160542     100.700882  \n",
       "std       668.486833    1095.034387     814.946722  \n",
       "min         0.000000       0.000000       0.000000  \n",
       "25%         0.000000       0.000000       0.000000  \n",
       "50%         0.000000       0.000000       0.000000  \n",
       "75%         0.000000       0.000000       0.000000  \n",
       "max    104060.000000  104060.000000  104060.000000  \n",
       "\n",
       "[8 rows x 380 columns]"
      ]
     },
     "execution_count": 9,
     "metadata": {},
     "output_type": "execute_result"
    }
   ],
   "source": [
    "df.describe()"
   ]
  },
  {
   "cell_type": "code",
   "execution_count": 10,
   "metadata": {
    "colab": {
     "base_uri": "https://localhost:8080/",
     "height": 488
    },
    "id": "QmggMkMnTXrh",
    "outputId": "4e76e4c9-1c35-47fe-ed26-2d2fb0675348"
   },
   "outputs": [
    {
     "data": {
      "text/html": [
       "\n",
       "  <div id=\"df-1fe2110e-ef29-4b0e-93c7-43a840128dc7\">\n",
       "    <div class=\"colab-df-container\">\n",
       "      <div>\n",
       "<style scoped>\n",
       "    .dataframe tbody tr th:only-of-type {\n",
       "        vertical-align: middle;\n",
       "    }\n",
       "\n",
       "    .dataframe tbody tr th {\n",
       "        vertical-align: top;\n",
       "    }\n",
       "\n",
       "    .dataframe thead th {\n",
       "        text-align: right;\n",
       "    }\n",
       "</style>\n",
       "<table border=\"1\" class=\"dataframe\">\n",
       "  <thead>\n",
       "    <tr style=\"text-align: right;\">\n",
       "      <th></th>\n",
       "      <th>TransactionID</th>\n",
       "      <th>isFraud</th>\n",
       "      <th>TransactionDT</th>\n",
       "      <th>TransactionAmt</th>\n",
       "      <th>card1</th>\n",
       "      <th>card2</th>\n",
       "      <th>card3</th>\n",
       "      <th>card5</th>\n",
       "      <th>addr1</th>\n",
       "      <th>addr2</th>\n",
       "      <th>...</th>\n",
       "      <th>V330</th>\n",
       "      <th>V331</th>\n",
       "      <th>V332</th>\n",
       "      <th>V333</th>\n",
       "      <th>V334</th>\n",
       "      <th>V335</th>\n",
       "      <th>V336</th>\n",
       "      <th>V337</th>\n",
       "      <th>V338</th>\n",
       "      <th>V339</th>\n",
       "    </tr>\n",
       "  </thead>\n",
       "  <tbody>\n",
       "    <tr>\n",
       "      <th>TransactionID</th>\n",
       "      <td>1.000000</td>\n",
       "      <td>0.014166</td>\n",
       "      <td>0.998280</td>\n",
       "      <td>0.012025</td>\n",
       "      <td>0.010122</td>\n",
       "      <td>-0.019900</td>\n",
       "      <td>-0.010091</td>\n",
       "      <td>-0.023900</td>\n",
       "      <td>-0.000370</td>\n",
       "      <td>0.057213</td>\n",
       "      <td>...</td>\n",
       "      <td>0.250831</td>\n",
       "      <td>0.199285</td>\n",
       "      <td>0.219190</td>\n",
       "      <td>0.223816</td>\n",
       "      <td>0.005893</td>\n",
       "      <td>0.179740</td>\n",
       "      <td>0.103030</td>\n",
       "      <td>0.074034</td>\n",
       "      <td>0.203922</td>\n",
       "      <td>0.162702</td>\n",
       "    </tr>\n",
       "    <tr>\n",
       "      <th>isFraud</th>\n",
       "      <td>0.014166</td>\n",
       "      <td>1.000000</td>\n",
       "      <td>0.013103</td>\n",
       "      <td>0.011320</td>\n",
       "      <td>-0.013640</td>\n",
       "      <td>0.003388</td>\n",
       "      <td>0.154151</td>\n",
       "      <td>-0.033580</td>\n",
       "      <td>0.005596</td>\n",
       "      <td>-0.030387</td>\n",
       "      <td>...</td>\n",
       "      <td>-0.021164</td>\n",
       "      <td>-0.021982</td>\n",
       "      <td>-0.023468</td>\n",
       "      <td>-0.024134</td>\n",
       "      <td>-0.000451</td>\n",
       "      <td>-0.005456</td>\n",
       "      <td>-0.002402</td>\n",
       "      <td>-0.005702</td>\n",
       "      <td>-0.019356</td>\n",
       "      <td>-0.014663</td>\n",
       "    </tr>\n",
       "    <tr>\n",
       "      <th>TransactionDT</th>\n",
       "      <td>0.998280</td>\n",
       "      <td>0.013103</td>\n",
       "      <td>1.000000</td>\n",
       "      <td>0.011920</td>\n",
       "      <td>0.010625</td>\n",
       "      <td>-0.019202</td>\n",
       "      <td>-0.011222</td>\n",
       "      <td>-0.024132</td>\n",
       "      <td>-0.000051</td>\n",
       "      <td>0.051972</td>\n",
       "      <td>...</td>\n",
       "      <td>0.258603</td>\n",
       "      <td>0.205671</td>\n",
       "      <td>0.226312</td>\n",
       "      <td>0.231072</td>\n",
       "      <td>0.005762</td>\n",
       "      <td>0.184407</td>\n",
       "      <td>0.105783</td>\n",
       "      <td>0.075892</td>\n",
       "      <td>0.210240</td>\n",
       "      <td>0.167524</td>\n",
       "    </tr>\n",
       "    <tr>\n",
       "      <th>TransactionAmt</th>\n",
       "      <td>0.012025</td>\n",
       "      <td>0.011320</td>\n",
       "      <td>0.011920</td>\n",
       "      <td>1.000000</td>\n",
       "      <td>-0.005725</td>\n",
       "      <td>0.016136</td>\n",
       "      <td>-0.109785</td>\n",
       "      <td>0.003061</td>\n",
       "      <td>-0.007421</td>\n",
       "      <td>0.028312</td>\n",
       "      <td>...</td>\n",
       "      <td>0.003909</td>\n",
       "      <td>0.024319</td>\n",
       "      <td>0.010808</td>\n",
       "      <td>0.017385</td>\n",
       "      <td>0.078751</td>\n",
       "      <td>0.044830</td>\n",
       "      <td>0.070651</td>\n",
       "      <td>0.129452</td>\n",
       "      <td>0.082064</td>\n",
       "      <td>0.105996</td>\n",
       "    </tr>\n",
       "    <tr>\n",
       "      <th>card1</th>\n",
       "      <td>0.010122</td>\n",
       "      <td>-0.013640</td>\n",
       "      <td>0.010625</td>\n",
       "      <td>-0.005725</td>\n",
       "      <td>1.000000</td>\n",
       "      <td>0.004960</td>\n",
       "      <td>0.002965</td>\n",
       "      <td>-0.093633</td>\n",
       "      <td>0.020369</td>\n",
       "      <td>-0.000060</td>\n",
       "      <td>...</td>\n",
       "      <td>0.146483</td>\n",
       "      <td>0.121763</td>\n",
       "      <td>0.133150</td>\n",
       "      <td>0.136557</td>\n",
       "      <td>-0.001903</td>\n",
       "      <td>0.080603</td>\n",
       "      <td>0.050555</td>\n",
       "      <td>0.036052</td>\n",
       "      <td>0.118885</td>\n",
       "      <td>0.091271</td>\n",
       "    </tr>\n",
       "    <tr>\n",
       "      <th>...</th>\n",
       "      <td>...</td>\n",
       "      <td>...</td>\n",
       "      <td>...</td>\n",
       "      <td>...</td>\n",
       "      <td>...</td>\n",
       "      <td>...</td>\n",
       "      <td>...</td>\n",
       "      <td>...</td>\n",
       "      <td>...</td>\n",
       "      <td>...</td>\n",
       "      <td>...</td>\n",
       "      <td>...</td>\n",
       "      <td>...</td>\n",
       "      <td>...</td>\n",
       "      <td>...</td>\n",
       "      <td>...</td>\n",
       "      <td>...</td>\n",
       "      <td>...</td>\n",
       "      <td>...</td>\n",
       "      <td>...</td>\n",
       "      <td>...</td>\n",
       "    </tr>\n",
       "    <tr>\n",
       "      <th>V335</th>\n",
       "      <td>0.179740</td>\n",
       "      <td>-0.005456</td>\n",
       "      <td>0.184407</td>\n",
       "      <td>0.044830</td>\n",
       "      <td>0.080603</td>\n",
       "      <td>0.044073</td>\n",
       "      <td>0.000465</td>\n",
       "      <td>-0.209817</td>\n",
       "      <td>0.029812</td>\n",
       "      <td>0.006035</td>\n",
       "      <td>...</td>\n",
       "      <td>0.647561</td>\n",
       "      <td>0.593782</td>\n",
       "      <td>0.647208</td>\n",
       "      <td>0.657350</td>\n",
       "      <td>0.703988</td>\n",
       "      <td>1.000000</td>\n",
       "      <td>0.914130</td>\n",
       "      <td>0.166021</td>\n",
       "      <td>0.552533</td>\n",
       "      <td>0.411911</td>\n",
       "    </tr>\n",
       "    <tr>\n",
       "      <th>V336</th>\n",
       "      <td>0.103030</td>\n",
       "      <td>-0.002402</td>\n",
       "      <td>0.105783</td>\n",
       "      <td>0.070651</td>\n",
       "      <td>0.050555</td>\n",
       "      <td>0.029899</td>\n",
       "      <td>-0.001279</td>\n",
       "      <td>-0.139576</td>\n",
       "      <td>0.019343</td>\n",
       "      <td>0.004541</td>\n",
       "      <td>...</td>\n",
       "      <td>0.412448</td>\n",
       "      <td>0.389508</td>\n",
       "      <td>0.410970</td>\n",
       "      <td>0.425812</td>\n",
       "      <td>0.906312</td>\n",
       "      <td>0.914130</td>\n",
       "      <td>1.000000</td>\n",
       "      <td>0.118221</td>\n",
       "      <td>0.353950</td>\n",
       "      <td>0.274392</td>\n",
       "    </tr>\n",
       "    <tr>\n",
       "      <th>V337</th>\n",
       "      <td>0.074034</td>\n",
       "      <td>-0.005702</td>\n",
       "      <td>0.075892</td>\n",
       "      <td>0.129452</td>\n",
       "      <td>0.036052</td>\n",
       "      <td>0.017705</td>\n",
       "      <td>0.001361</td>\n",
       "      <td>-0.076374</td>\n",
       "      <td>0.011272</td>\n",
       "      <td>0.001554</td>\n",
       "      <td>...</td>\n",
       "      <td>0.245626</td>\n",
       "      <td>0.309989</td>\n",
       "      <td>0.259108</td>\n",
       "      <td>0.295698</td>\n",
       "      <td>0.041888</td>\n",
       "      <td>0.166021</td>\n",
       "      <td>0.118221</td>\n",
       "      <td>1.000000</td>\n",
       "      <td>0.742652</td>\n",
       "      <td>0.907378</td>\n",
       "    </tr>\n",
       "    <tr>\n",
       "      <th>V338</th>\n",
       "      <td>0.203922</td>\n",
       "      <td>-0.019356</td>\n",
       "      <td>0.210240</td>\n",
       "      <td>0.082064</td>\n",
       "      <td>0.118885</td>\n",
       "      <td>0.055566</td>\n",
       "      <td>0.001970</td>\n",
       "      <td>-0.233342</td>\n",
       "      <td>0.034816</td>\n",
       "      <td>0.003999</td>\n",
       "      <td>...</td>\n",
       "      <td>0.780555</td>\n",
       "      <td>0.752075</td>\n",
       "      <td>0.800310</td>\n",
       "      <td>0.823754</td>\n",
       "      <td>0.054911</td>\n",
       "      <td>0.552533</td>\n",
       "      <td>0.353950</td>\n",
       "      <td>0.742652</td>\n",
       "      <td>1.000000</td>\n",
       "      <td>0.940009</td>\n",
       "    </tr>\n",
       "    <tr>\n",
       "      <th>V339</th>\n",
       "      <td>0.162702</td>\n",
       "      <td>-0.014663</td>\n",
       "      <td>0.167524</td>\n",
       "      <td>0.105996</td>\n",
       "      <td>0.091271</td>\n",
       "      <td>0.043249</td>\n",
       "      <td>0.001800</td>\n",
       "      <td>-0.182758</td>\n",
       "      <td>0.026908</td>\n",
       "      <td>0.003237</td>\n",
       "      <td>...</td>\n",
       "      <td>0.611463</td>\n",
       "      <td>0.572187</td>\n",
       "      <td>0.579686</td>\n",
       "      <td>0.620566</td>\n",
       "      <td>0.055864</td>\n",
       "      <td>0.411911</td>\n",
       "      <td>0.274392</td>\n",
       "      <td>0.907378</td>\n",
       "      <td>0.940009</td>\n",
       "      <td>1.000000</td>\n",
       "    </tr>\n",
       "  </tbody>\n",
       "</table>\n",
       "<p>380 rows × 380 columns</p>\n",
       "</div>\n",
       "      <button class=\"colab-df-convert\" onclick=\"convertToInteractive('df-1fe2110e-ef29-4b0e-93c7-43a840128dc7')\"\n",
       "              title=\"Convert this dataframe to an interactive table.\"\n",
       "              style=\"display:none;\">\n",
       "        \n",
       "  <svg xmlns=\"http://www.w3.org/2000/svg\" height=\"24px\"viewBox=\"0 0 24 24\"\n",
       "       width=\"24px\">\n",
       "    <path d=\"M0 0h24v24H0V0z\" fill=\"none\"/>\n",
       "    <path d=\"M18.56 5.44l.94 2.06.94-2.06 2.06-.94-2.06-.94-.94-2.06-.94 2.06-2.06.94zm-11 1L8.5 8.5l.94-2.06 2.06-.94-2.06-.94L8.5 2.5l-.94 2.06-2.06.94zm10 10l.94 2.06.94-2.06 2.06-.94-2.06-.94-.94-2.06-.94 2.06-2.06.94z\"/><path d=\"M17.41 7.96l-1.37-1.37c-.4-.4-.92-.59-1.43-.59-.52 0-1.04.2-1.43.59L10.3 9.45l-7.72 7.72c-.78.78-.78 2.05 0 2.83L4 21.41c.39.39.9.59 1.41.59.51 0 1.02-.2 1.41-.59l7.78-7.78 2.81-2.81c.8-.78.8-2.07 0-2.86zM5.41 20L4 18.59l7.72-7.72 1.47 1.35L5.41 20z\"/>\n",
       "  </svg>\n",
       "      </button>\n",
       "      \n",
       "  <style>\n",
       "    .colab-df-container {\n",
       "      display:flex;\n",
       "      flex-wrap:wrap;\n",
       "      gap: 12px;\n",
       "    }\n",
       "\n",
       "    .colab-df-convert {\n",
       "      background-color: #E8F0FE;\n",
       "      border: none;\n",
       "      border-radius: 50%;\n",
       "      cursor: pointer;\n",
       "      display: none;\n",
       "      fill: #1967D2;\n",
       "      height: 32px;\n",
       "      padding: 0 0 0 0;\n",
       "      width: 32px;\n",
       "    }\n",
       "\n",
       "    .colab-df-convert:hover {\n",
       "      background-color: #E2EBFA;\n",
       "      box-shadow: 0px 1px 2px rgba(60, 64, 67, 0.3), 0px 1px 3px 1px rgba(60, 64, 67, 0.15);\n",
       "      fill: #174EA6;\n",
       "    }\n",
       "\n",
       "    [theme=dark] .colab-df-convert {\n",
       "      background-color: #3B4455;\n",
       "      fill: #D2E3FC;\n",
       "    }\n",
       "\n",
       "    [theme=dark] .colab-df-convert:hover {\n",
       "      background-color: #434B5C;\n",
       "      box-shadow: 0px 1px 3px 1px rgba(0, 0, 0, 0.15);\n",
       "      filter: drop-shadow(0px 1px 2px rgba(0, 0, 0, 0.3));\n",
       "      fill: #FFFFFF;\n",
       "    }\n",
       "  </style>\n",
       "\n",
       "      <script>\n",
       "        const buttonEl =\n",
       "          document.querySelector('#df-1fe2110e-ef29-4b0e-93c7-43a840128dc7 button.colab-df-convert');\n",
       "        buttonEl.style.display =\n",
       "          google.colab.kernel.accessAllowed ? 'block' : 'none';\n",
       "\n",
       "        async function convertToInteractive(key) {\n",
       "          const element = document.querySelector('#df-1fe2110e-ef29-4b0e-93c7-43a840128dc7');\n",
       "          const dataTable =\n",
       "            await google.colab.kernel.invokeFunction('convertToInteractive',\n",
       "                                                     [key], {});\n",
       "          if (!dataTable) return;\n",
       "\n",
       "          const docLinkHtml = 'Like what you see? Visit the ' +\n",
       "            '<a target=\"_blank\" href=https://colab.research.google.com/notebooks/data_table.ipynb>data table notebook</a>'\n",
       "            + ' to learn more about interactive tables.';\n",
       "          element.innerHTML = '';\n",
       "          dataTable['output_type'] = 'display_data';\n",
       "          await google.colab.output.renderOutput(dataTable, element);\n",
       "          const docLink = document.createElement('div');\n",
       "          docLink.innerHTML = docLinkHtml;\n",
       "          element.appendChild(docLink);\n",
       "        }\n",
       "      </script>\n",
       "    </div>\n",
       "  </div>\n",
       "  "
      ],
      "text/plain": [
       "                TransactionID   isFraud  TransactionDT  TransactionAmt  \\\n",
       "TransactionID        1.000000  0.014166       0.998280        0.012025   \n",
       "isFraud              0.014166  1.000000       0.013103        0.011320   \n",
       "TransactionDT        0.998280  0.013103       1.000000        0.011920   \n",
       "TransactionAmt       0.012025  0.011320       0.011920        1.000000   \n",
       "card1                0.010122 -0.013640       0.010625       -0.005725   \n",
       "...                       ...       ...            ...             ...   \n",
       "V335                 0.179740 -0.005456       0.184407        0.044830   \n",
       "V336                 0.103030 -0.002402       0.105783        0.070651   \n",
       "V337                 0.074034 -0.005702       0.075892        0.129452   \n",
       "V338                 0.203922 -0.019356       0.210240        0.082064   \n",
       "V339                 0.162702 -0.014663       0.167524        0.105996   \n",
       "\n",
       "                   card1     card2     card3     card5     addr1     addr2  \\\n",
       "TransactionID   0.010122 -0.019900 -0.010091 -0.023900 -0.000370  0.057213   \n",
       "isFraud        -0.013640  0.003388  0.154151 -0.033580  0.005596 -0.030387   \n",
       "TransactionDT   0.010625 -0.019202 -0.011222 -0.024132 -0.000051  0.051972   \n",
       "TransactionAmt -0.005725  0.016136 -0.109785  0.003061 -0.007421  0.028312   \n",
       "card1           1.000000  0.004960  0.002965 -0.093633  0.020369 -0.000060   \n",
       "...                  ...       ...       ...       ...       ...       ...   \n",
       "V335            0.080603  0.044073  0.000465 -0.209817  0.029812  0.006035   \n",
       "V336            0.050555  0.029899 -0.001279 -0.139576  0.019343  0.004541   \n",
       "V337            0.036052  0.017705  0.001361 -0.076374  0.011272  0.001554   \n",
       "V338            0.118885  0.055566  0.001970 -0.233342  0.034816  0.003999   \n",
       "V339            0.091271  0.043249  0.001800 -0.182758  0.026908  0.003237   \n",
       "\n",
       "                ...      V330      V331      V332      V333      V334  \\\n",
       "TransactionID   ...  0.250831  0.199285  0.219190  0.223816  0.005893   \n",
       "isFraud         ... -0.021164 -0.021982 -0.023468 -0.024134 -0.000451   \n",
       "TransactionDT   ...  0.258603  0.205671  0.226312  0.231072  0.005762   \n",
       "TransactionAmt  ...  0.003909  0.024319  0.010808  0.017385  0.078751   \n",
       "card1           ...  0.146483  0.121763  0.133150  0.136557 -0.001903   \n",
       "...             ...       ...       ...       ...       ...       ...   \n",
       "V335            ...  0.647561  0.593782  0.647208  0.657350  0.703988   \n",
       "V336            ...  0.412448  0.389508  0.410970  0.425812  0.906312   \n",
       "V337            ...  0.245626  0.309989  0.259108  0.295698  0.041888   \n",
       "V338            ...  0.780555  0.752075  0.800310  0.823754  0.054911   \n",
       "V339            ...  0.611463  0.572187  0.579686  0.620566  0.055864   \n",
       "\n",
       "                    V335      V336      V337      V338      V339  \n",
       "TransactionID   0.179740  0.103030  0.074034  0.203922  0.162702  \n",
       "isFraud        -0.005456 -0.002402 -0.005702 -0.019356 -0.014663  \n",
       "TransactionDT   0.184407  0.105783  0.075892  0.210240  0.167524  \n",
       "TransactionAmt  0.044830  0.070651  0.129452  0.082064  0.105996  \n",
       "card1           0.080603  0.050555  0.036052  0.118885  0.091271  \n",
       "...                  ...       ...       ...       ...       ...  \n",
       "V335            1.000000  0.914130  0.166021  0.552533  0.411911  \n",
       "V336            0.914130  1.000000  0.118221  0.353950  0.274392  \n",
       "V337            0.166021  0.118221  1.000000  0.742652  0.907378  \n",
       "V338            0.552533  0.353950  0.742652  1.000000  0.940009  \n",
       "V339            0.411911  0.274392  0.907378  0.940009  1.000000  \n",
       "\n",
       "[380 rows x 380 columns]"
      ]
     },
     "execution_count": 10,
     "metadata": {},
     "output_type": "execute_result"
    }
   ],
   "source": [
    "df.corr()"
   ]
  },
  {
   "cell_type": "code",
   "execution_count": 11,
   "metadata": {
    "colab": {
     "base_uri": "https://localhost:8080/"
    },
    "id": "GA38gMuWUrKj",
    "outputId": "691b10fe-5e6e-4000-a20c-4932865845cb"
   },
   "outputs": [
    {
     "name": "stderr",
     "output_type": "stream",
     "text": [
      "/usr/local/lib/python3.7/dist-packages/ipykernel_launcher.py:1: FutureWarning: Dropping of nuisance columns in DataFrame reductions (with 'numeric_only=None') is deprecated; in a future version this will raise TypeError.  Select only valid columns before calling the reduction.\n",
      "  \"\"\"Entry point for launching an IPython kernel.\n"
     ]
    },
    {
     "data": {
      "text/plain": [
       "TransactionID    -3.024053e-16\n",
       "isFraud           5.061223e+00\n",
       "TransactionDT     1.311547e-01\n",
       "TransactionAmt    1.437449e+01\n",
       "card1            -4.092898e-02\n",
       "                      ...     \n",
       "V335              5.414242e+01\n",
       "V336              1.187230e+02\n",
       "V337              8.577117e+01\n",
       "V338              2.364451e+01\n",
       "V339              4.891002e+01\n",
       "Length: 380, dtype: float64"
      ]
     },
     "execution_count": 11,
     "metadata": {},
     "output_type": "execute_result"
    }
   ],
   "source": [
    "df.skew()"
   ]
  },
  {
   "cell_type": "code",
   "execution_count": 11,
   "metadata": {
    "id": "LF5oQIDmUyYg"
   },
   "outputs": [],
   "source": []
  },
  {
   "cell_type": "code",
   "execution_count": 12,
   "metadata": {
    "colab": {
     "base_uri": "https://localhost:8080/"
    },
    "id": "8rnIeg7zScZo",
    "outputId": "0f0ec080-e092-4031-f401-05fe23890b9d"
   },
   "outputs": [
    {
     "data": {
      "text/plain": [
       "Index(['TransactionID', 'isFraud', 'TransactionDT', 'TransactionAmt',\n",
       "       'ProductCD', 'card1', 'card2', 'card3', 'card4', 'card5',\n",
       "       ...\n",
       "       'V330', 'V331', 'V332', 'V333', 'V334', 'V335', 'V336', 'V337', 'V338',\n",
       "       'V339'],\n",
       "      dtype='object', length=394)"
      ]
     },
     "execution_count": 12,
     "metadata": {},
     "output_type": "execute_result"
    }
   ],
   "source": [
    "df.columns"
   ]
  },
  {
   "cell_type": "code",
   "execution_count": 13,
   "metadata": {
    "colab": {
     "base_uri": "https://localhost:8080/",
     "height": 282
    },
    "id": "2p2oTn0tuWB2",
    "outputId": "e81da896-b0e9-4c9e-c7fb-095b0993e22c"
   },
   "outputs": [
    {
     "data": {
      "text/plain": [
       "<matplotlib.axes._subplots.AxesSubplot at 0x7fe19e688990>"
      ]
     },
     "execution_count": 13,
     "metadata": {},
     "output_type": "execute_result"
    },
    {
     "data": {
      "image/png": "[encoded data removed]",
      "text/plain": [
       "<Figure size 432x288 with 1 Axes>"
      ]
     },
     "metadata": {
      "needs_background": "light"
     },
     "output_type": "display_data"
    }
   ],
   "source": [
    "df.isFraud.hist()"
   ]
  },
  {
   "cell_type": "code",
   "execution_count": 14,
   "metadata": {
    "colab": {
     "base_uri": "https://localhost:8080/",
     "height": 932
    },
    "id": "5ZNROXOfTCjF",
    "outputId": "135c266a-828d-409e-f5e0-2dc72ee2a411"
   },
   "outputs": [
    {
     "name": "stderr",
     "output_type": "stream",
     "text": [
      "/usr/local/lib/python3.7/dist-packages/seaborn/distributions.py:2619: FutureWarning: `distplot` is a deprecated function and will be removed in a future version. Please adapt your code to use either `displot` (a figure-level function with similar flexibility) or `histplot` (an axes-level function for histograms).\n",
      "  warnings.warn(msg, FutureWarning)\n"
     ]
    },
    {
     "data": {
      "image/png": "[encoded data removed]",
      "text/plain": [
       "<Figure size 1440x1080 with 1 Axes>"
      ]
     },
     "metadata": {
      "needs_background": "light"
     },
     "output_type": "display_data"
    }
   ],
   "source": [
    "plt.figure(figsize=(20,15))\n",
    "sns.distplot(df['TransactionAmt'])\n",
    "plt.show()"
   ]
  },
  {
   "cell_type": "code",
   "execution_count": 15,
   "metadata": {
    "colab": {
     "base_uri": "https://localhost:8080/",
     "height": 483
    },
    "id": "X4c0QfixVuNY",
    "outputId": "c517ff17-d7c6-48e5-f29d-c2d147ad1983"
   },
   "outputs": [
    {
     "data": {
      "image/png": "[encoded data removed]",
      "text/plain": [
       "<Figure size 864x576 with 1 Axes>"
      ]
     },
     "metadata": {
      "needs_background": "light"
     },
     "output_type": "display_data"
    }
   ],
   "source": [
    "plt.figure(figsize=(12,8))\n",
    "count_classes = pd.value_counts(df['ProductCD'], sort = False)\n",
    "count_classes.plot (kind='bar')\n",
    "plt.show()"
   ]
  },
  {
   "cell_type": "code",
   "execution_count": 16,
   "metadata": {
    "colab": {
     "base_uri": "https://localhost:8080/",
     "height": 561
    },
    "id": "Hwetx4KSTOTS",
    "outputId": "682e5426-c374-4be9-9046-352970c25768"
   },
   "outputs": [
    {
     "data": {
      "image/png": "[encoded data removed]",
      "text/plain": [
       "<Figure size 864x576 with 1 Axes>"
      ]
     },
     "metadata": {
      "needs_background": "light"
     },
     "output_type": "display_data"
    }
   ],
   "source": [
    "plt.figure(figsize=(12,8))\n",
    "count_classes = pd.value_counts(df['card4'], sort = False)\n",
    "count_classes.plot (kind='bar')\n",
    "plt.show()"
   ]
  },
  {
   "cell_type": "code",
   "execution_count": 17,
   "metadata": {
    "colab": {
     "base_uri": "https://localhost:8080/",
     "height": 877
    },
    "id": "m5ObfhSGV5Qt",
    "outputId": "c7cdf520-1d5c-473b-8698-12c0d06e8371"
   },
   "outputs": [
    {
     "data": {
      "image/png": "[encoded data removed]",
      "text/plain": [
       "<Figure size 1440x1080 with 1 Axes>"
      ]
     },
     "metadata": {
      "needs_background": "light"
     },
     "output_type": "display_data"
    }
   ],
   "source": [
    "plt.figure(figsize=(20,15))\n",
    "sns.countplot(x = \"card4\", data=df, hue = \"isFraud\") \n",
    "plt.show()"
   ]
  },
  {
   "cell_type": "code",
   "execution_count": 18,
   "metadata": {
    "colab": {
     "base_uri": "https://localhost:8080/",
     "height": 877
    },
    "id": "bxdzOfGaWa-z",
    "outputId": "545b09ab-e36d-43b3-f002-889f9f6b287b"
   },
   "outputs": [
    {
     "data": {
      "image/png": "[encoded data removed]",
      "text/plain": [
       "<Figure size 1440x1080 with 1 Axes>"
      ]
     },
     "metadata": {
      "needs_background": "light"
     },
     "output_type": "display_data"
    }
   ],
   "source": [
    "plt.figure(figsize=(20,15))\n",
    "sns.countplot(x = \"ProductCD\", data=df, hue = \"isFraud\") \n",
    "plt.show()"
   ]
  },
  {
   "cell_type": "code",
   "execution_count": 18,
   "metadata": {
    "id": "cRT3aNgsTLYf"
   },
   "outputs": [],
   "source": []
  },
  {
   "cell_type": "code",
   "execution_count": 19,
   "metadata": {
    "colab": {
     "base_uri": "https://localhost:8080/"
    },
    "id": "bs919fDK7kqI",
    "outputId": "5f995c0f-df0b-42c3-93d9-a96ed23f29f2"
   },
   "outputs": [
    {
     "data": {
      "text/plain": [
       "W    439670\n",
       "C     68519\n",
       "R     37699\n",
       "H     33024\n",
       "S     11628\n",
       "Name: ProductCD, dtype: int64"
      ]
     },
     "execution_count": 19,
     "metadata": {},
     "output_type": "execute_result"
    }
   ],
   "source": [
    "df['ProductCD'].value_counts()"
   ]
  },
  {
   "cell_type": "code",
   "execution_count": 20,
   "metadata": {
    "colab": {
     "base_uri": "https://localhost:8080/"
    },
    "id": "cxuzY6jH0VKP",
    "outputId": "388ad948-e793-4130-a709-1165e35ac377"
   },
   "outputs": [
    {
     "data": {
      "text/plain": [
       "visa                384767\n",
       "mastercard          189217\n",
       "american express      8328\n",
       "discover              6651\n",
       "Name: card4, dtype: int64"
      ]
     },
     "execution_count": 20,
     "metadata": {},
     "output_type": "execute_result"
    }
   ],
   "source": [
    "df['card4'].value_counts()"
   ]
  },
  {
   "cell_type": "code",
   "execution_count": 21,
   "metadata": {
    "id": "-DBnQLjCX4-a"
   },
   "outputs": [],
   "source": [
    "for i in df.columns:\n",
    "    if df[i].isnull().sum() / len(df) * 100 > 80:\n",
    "#         print(i)\n",
    "        df.drop(i, inplace = True, axis = 1)"
   ]
  },
  {
   "cell_type": "code",
   "execution_count": 22,
   "metadata": {
    "id": "9xorCuaXYJ6R"
   },
   "outputs": [],
   "source": [
    "for i in df.columns:\n",
    "    df[i] = df[i].fillna(df[i].mode()[0])"
   ]
  },
  {
   "cell_type": "code",
   "execution_count": 23,
   "metadata": {
    "colab": {
     "base_uri": "https://localhost:8080/",
     "height": 394
    },
    "id": "A9oYRsTNYftM",
    "outputId": "9a58c4cd-a4ef-4dfa-e016-d84c6384d837"
   },
   "outputs": [
    {
     "data": {
      "text/html": [
       "\n",
       "  <div id=\"df-c6ff8f51-48b1-4437-99e4-97d64c95169e\">\n",
       "    <div class=\"colab-df-container\">\n",
       "      <div>\n",
       "<style scoped>\n",
       "    .dataframe tbody tr th:only-of-type {\n",
       "        vertical-align: middle;\n",
       "    }\n",
       "\n",
       "    .dataframe tbody tr th {\n",
       "        vertical-align: top;\n",
       "    }\n",
       "\n",
       "    .dataframe thead th {\n",
       "        text-align: right;\n",
       "    }\n",
       "</style>\n",
       "<table border=\"1\" class=\"dataframe\">\n",
       "  <thead>\n",
       "    <tr style=\"text-align: right;\">\n",
       "      <th></th>\n",
       "      <th>TransactionID</th>\n",
       "      <th>isFraud</th>\n",
       "      <th>TransactionDT</th>\n",
       "      <th>TransactionAmt</th>\n",
       "      <th>card1</th>\n",
       "      <th>card2</th>\n",
       "      <th>card3</th>\n",
       "      <th>card5</th>\n",
       "      <th>addr1</th>\n",
       "      <th>addr2</th>\n",
       "      <th>...</th>\n",
       "      <th>V312</th>\n",
       "      <th>V313</th>\n",
       "      <th>V314</th>\n",
       "      <th>V315</th>\n",
       "      <th>V316</th>\n",
       "      <th>V317</th>\n",
       "      <th>V318</th>\n",
       "      <th>V319</th>\n",
       "      <th>V320</th>\n",
       "      <th>V321</th>\n",
       "    </tr>\n",
       "  </thead>\n",
       "  <tbody>\n",
       "    <tr>\n",
       "      <th>count</th>\n",
       "      <td>5.905400e+05</td>\n",
       "      <td>590540.000000</td>\n",
       "      <td>5.905400e+05</td>\n",
       "      <td>590540.000000</td>\n",
       "      <td>590540.000000</td>\n",
       "      <td>590540.000000</td>\n",
       "      <td>590540.000000</td>\n",
       "      <td>590540.000000</td>\n",
       "      <td>590540.000000</td>\n",
       "      <td>590540.000000</td>\n",
       "      <td>...</td>\n",
       "      <td>590540.000000</td>\n",
       "      <td>590540.000000</td>\n",
       "      <td>590540.000000</td>\n",
       "      <td>590540.000000</td>\n",
       "      <td>590540.000000</td>\n",
       "      <td>590540.000000</td>\n",
       "      <td>590540.000000</td>\n",
       "      <td>590540.000000</td>\n",
       "      <td>590540.000000</td>\n",
       "      <td>590540.000000</td>\n",
       "    </tr>\n",
       "    <tr>\n",
       "      <th>mean</th>\n",
       "      <td>3.282270e+06</td>\n",
       "      <td>0.034990</td>\n",
       "      <td>7.372311e+06</td>\n",
       "      <td>135.027176</td>\n",
       "      <td>9898.734658</td>\n",
       "      <td>361.926886</td>\n",
       "      <td>153.186458</td>\n",
       "      <td>199.471611</td>\n",
       "      <td>291.653527</td>\n",
       "      <td>86.822813</td>\n",
       "      <td>...</td>\n",
       "      <td>39.173114</td>\n",
       "      <td>21.305592</td>\n",
       "      <td>43.226087</td>\n",
       "      <td>26.749372</td>\n",
       "      <td>109.816313</td>\n",
       "      <td>247.601710</td>\n",
       "      <td>162.150103</td>\n",
       "      <td>18.372102</td>\n",
       "      <td>42.072278</td>\n",
       "      <td>28.326009</td>\n",
       "    </tr>\n",
       "    <tr>\n",
       "      <th>std</th>\n",
       "      <td>1.704744e+05</td>\n",
       "      <td>0.183755</td>\n",
       "      <td>4.617224e+06</td>\n",
       "      <td>239.162522</td>\n",
       "      <td>4901.170153</td>\n",
       "      <td>156.677363</td>\n",
       "      <td>11.322604</td>\n",
       "      <td>41.157610</td>\n",
       "      <td>95.949345</td>\n",
       "      <td>2.537300</td>\n",
       "      <td>...</td>\n",
       "      <td>172.126681</td>\n",
       "      <td>95.804974</td>\n",
       "      <td>173.443984</td>\n",
       "      <td>116.734202</td>\n",
       "      <td>2270.010192</td>\n",
       "      <td>3980.002546</td>\n",
       "      <td>2793.315350</td>\n",
       "      <td>332.301482</td>\n",
       "      <td>473.494534</td>\n",
       "      <td>382.049311</td>\n",
       "    </tr>\n",
       "    <tr>\n",
       "      <th>min</th>\n",
       "      <td>2.987000e+06</td>\n",
       "      <td>0.000000</td>\n",
       "      <td>8.640000e+04</td>\n",
       "      <td>0.251000</td>\n",
       "      <td>1000.000000</td>\n",
       "      <td>100.000000</td>\n",
       "      <td>100.000000</td>\n",
       "      <td>100.000000</td>\n",
       "      <td>100.000000</td>\n",
       "      <td>10.000000</td>\n",
       "      <td>...</td>\n",
       "      <td>0.000000</td>\n",
       "      <td>0.000000</td>\n",
       "      <td>0.000000</td>\n",
       "      <td>0.000000</td>\n",
       "      <td>0.000000</td>\n",
       "      <td>0.000000</td>\n",
       "      <td>0.000000</td>\n",
       "      <td>0.000000</td>\n",
       "      <td>0.000000</td>\n",
       "      <td>0.000000</td>\n",
       "    </tr>\n",
       "    <tr>\n",
       "      <th>25%</th>\n",
       "      <td>3.134635e+06</td>\n",
       "      <td>0.000000</td>\n",
       "      <td>3.027058e+06</td>\n",
       "      <td>43.321000</td>\n",
       "      <td>6019.000000</td>\n",
       "      <td>215.000000</td>\n",
       "      <td>150.000000</td>\n",
       "      <td>166.000000</td>\n",
       "      <td>205.000000</td>\n",
       "      <td>87.000000</td>\n",
       "      <td>...</td>\n",
       "      <td>0.000000</td>\n",
       "      <td>0.000000</td>\n",
       "      <td>0.000000</td>\n",
       "      <td>0.000000</td>\n",
       "      <td>0.000000</td>\n",
       "      <td>0.000000</td>\n",
       "      <td>0.000000</td>\n",
       "      <td>0.000000</td>\n",
       "      <td>0.000000</td>\n",
       "      <td>0.000000</td>\n",
       "    </tr>\n",
       "    <tr>\n",
       "      <th>50%</th>\n",
       "      <td>3.282270e+06</td>\n",
       "      <td>0.000000</td>\n",
       "      <td>7.306528e+06</td>\n",
       "      <td>68.769000</td>\n",
       "      <td>9678.000000</td>\n",
       "      <td>360.000000</td>\n",
       "      <td>150.000000</td>\n",
       "      <td>226.000000</td>\n",
       "      <td>299.000000</td>\n",
       "      <td>87.000000</td>\n",
       "      <td>...</td>\n",
       "      <td>0.000000</td>\n",
       "      <td>0.000000</td>\n",
       "      <td>0.000000</td>\n",
       "      <td>0.000000</td>\n",
       "      <td>0.000000</td>\n",
       "      <td>0.000000</td>\n",
       "      <td>0.000000</td>\n",
       "      <td>0.000000</td>\n",
       "      <td>0.000000</td>\n",
       "      <td>0.000000</td>\n",
       "    </tr>\n",
       "    <tr>\n",
       "      <th>75%</th>\n",
       "      <td>3.429904e+06</td>\n",
       "      <td>0.000000</td>\n",
       "      <td>1.124662e+07</td>\n",
       "      <td>125.000000</td>\n",
       "      <td>14184.000000</td>\n",
       "      <td>512.000000</td>\n",
       "      <td>150.000000</td>\n",
       "      <td>226.000000</td>\n",
       "      <td>327.000000</td>\n",
       "      <td>87.000000</td>\n",
       "      <td>...</td>\n",
       "      <td>0.000000</td>\n",
       "      <td>0.000000</td>\n",
       "      <td>0.000000</td>\n",
       "      <td>0.000000</td>\n",
       "      <td>0.000000</td>\n",
       "      <td>0.000000</td>\n",
       "      <td>0.000000</td>\n",
       "      <td>0.000000</td>\n",
       "      <td>0.000000</td>\n",
       "      <td>0.000000</td>\n",
       "    </tr>\n",
       "    <tr>\n",
       "      <th>max</th>\n",
       "      <td>3.577539e+06</td>\n",
       "      <td>1.000000</td>\n",
       "      <td>1.581113e+07</td>\n",
       "      <td>31937.391000</td>\n",
       "      <td>18396.000000</td>\n",
       "      <td>600.000000</td>\n",
       "      <td>231.000000</td>\n",
       "      <td>237.000000</td>\n",
       "      <td>540.000000</td>\n",
       "      <td>102.000000</td>\n",
       "      <td>...</td>\n",
       "      <td>55125.000000</td>\n",
       "      <td>4817.470215</td>\n",
       "      <td>7519.870117</td>\n",
       "      <td>4817.470215</td>\n",
       "      <td>93736.000000</td>\n",
       "      <td>134021.000000</td>\n",
       "      <td>98476.000000</td>\n",
       "      <td>104060.000000</td>\n",
       "      <td>104060.000000</td>\n",
       "      <td>104060.000000</td>\n",
       "    </tr>\n",
       "  </tbody>\n",
       "</table>\n",
       "<p>8 rows × 325 columns</p>\n",
       "</div>\n",
       "      <button class=\"colab-df-convert\" onclick=\"convertToInteractive('df-c6ff8f51-48b1-4437-99e4-97d64c95169e')\"\n",
       "              title=\"Convert this dataframe to an interactive table.\"\n",
       "              style=\"display:none;\">\n",
       "        \n",
       "  <svg xmlns=\"http://www.w3.org/2000/svg\" height=\"24px\"viewBox=\"0 0 24 24\"\n",
       "       width=\"24px\">\n",
       "    <path d=\"M0 0h24v24H0V0z\" fill=\"none\"/>\n",
       "    <path d=\"M18.56 5.44l.94 2.06.94-2.06 2.06-.94-2.06-.94-.94-2.06-.94 2.06-2.06.94zm-11 1L8.5 8.5l.94-2.06 2.06-.94-2.06-.94L8.5 2.5l-.94 2.06-2.06.94zm10 10l.94 2.06.94-2.06 2.06-.94-2.06-.94-.94-2.06-.94 2.06-2.06.94z\"/><path d=\"M17.41 7.96l-1.37-1.37c-.4-.4-.92-.59-1.43-.59-.52 0-1.04.2-1.43.59L10.3 9.45l-7.72 7.72c-.78.78-.78 2.05 0 2.83L4 21.41c.39.39.9.59 1.41.59.51 0 1.02-.2 1.41-.59l7.78-7.78 2.81-2.81c.8-.78.8-2.07 0-2.86zM5.41 20L4 18.59l7.72-7.72 1.47 1.35L5.41 20z\"/>\n",
       "  </svg>\n",
       "      </button>\n",
       "      \n",
       "  <style>\n",
       "    .colab-df-container {\n",
       "      display:flex;\n",
       "      flex-wrap:wrap;\n",
       "      gap: 12px;\n",
       "    }\n",
       "\n",
       "    .colab-df-convert {\n",
       "      background-color: #E8F0FE;\n",
       "      border: none;\n",
       "      border-radius: 50%;\n",
       "      cursor: pointer;\n",
       "      display: none;\n",
       "      fill: #1967D2;\n",
       "      height: 32px;\n",
       "      padding: 0 0 0 0;\n",
       "      width: 32px;\n",
       "    }\n",
       "\n",
       "    .colab-df-convert:hover {\n",
       "      background-color: #E2EBFA;\n",
       "      box-shadow: 0px 1px 2px rgba(60, 64, 67, 0.3), 0px 1px 3px 1px rgba(60, 64, 67, 0.15);\n",
       "      fill: #174EA6;\n",
       "    }\n",
       "\n",
       "    [theme=dark] .colab-df-convert {\n",
       "      background-color: #3B4455;\n",
       "      fill: #D2E3FC;\n",
       "    }\n",
       "\n",
       "    [theme=dark] .colab-df-convert:hover {\n",
       "      background-color: #434B5C;\n",
       "      box-shadow: 0px 1px 3px 1px rgba(0, 0, 0, 0.15);\n",
       "      filter: drop-shadow(0px 1px 2px rgba(0, 0, 0, 0.3));\n",
       "      fill: #FFFFFF;\n",
       "    }\n",
       "  </style>\n",
       "\n",
       "      <script>\n",
       "        const buttonEl =\n",
       "          document.querySelector('#df-c6ff8f51-48b1-4437-99e4-97d64c95169e button.colab-df-convert');\n",
       "        buttonEl.style.display =\n",
       "          google.colab.kernel.accessAllowed ? 'block' : 'none';\n",
       "\n",
       "        async function convertToInteractive(key) {\n",
       "          const element = document.querySelector('#df-c6ff8f51-48b1-4437-99e4-97d64c95169e');\n",
       "          const dataTable =\n",
       "            await google.colab.kernel.invokeFunction('convertToInteractive',\n",
       "                                                     [key], {});\n",
       "          if (!dataTable) return;\n",
       "\n",
       "          const docLinkHtml = 'Like what you see? Visit the ' +\n",
       "            '<a target=\"_blank\" href=https://colab.research.google.com/notebooks/data_table.ipynb>data table notebook</a>'\n",
       "            + ' to learn more about interactive tables.';\n",
       "          element.innerHTML = '';\n",
       "          dataTable['output_type'] = 'display_data';\n",
       "          await google.colab.output.renderOutput(dataTable, element);\n",
       "          const docLink = document.createElement('div');\n",
       "          docLink.innerHTML = docLinkHtml;\n",
       "          element.appendChild(docLink);\n",
       "        }\n",
       "      </script>\n",
       "    </div>\n",
       "  </div>\n",
       "  "
      ],
      "text/plain": [
       "       TransactionID        isFraud  TransactionDT  TransactionAmt  \\\n",
       "count   5.905400e+05  590540.000000   5.905400e+05   590540.000000   \n",
       "mean    3.282270e+06       0.034990   7.372311e+06      135.027176   \n",
       "std     1.704744e+05       0.183755   4.617224e+06      239.162522   \n",
       "min     2.987000e+06       0.000000   8.640000e+04        0.251000   \n",
       "25%     3.134635e+06       0.000000   3.027058e+06       43.321000   \n",
       "50%     3.282270e+06       0.000000   7.306528e+06       68.769000   \n",
       "75%     3.429904e+06       0.000000   1.124662e+07      125.000000   \n",
       "max     3.577539e+06       1.000000   1.581113e+07    31937.391000   \n",
       "\n",
       "               card1          card2          card3          card5  \\\n",
       "count  590540.000000  590540.000000  590540.000000  590540.000000   \n",
       "mean     9898.734658     361.926886     153.186458     199.471611   \n",
       "std      4901.170153     156.677363      11.322604      41.157610   \n",
       "min      1000.000000     100.000000     100.000000     100.000000   \n",
       "25%      6019.000000     215.000000     150.000000     166.000000   \n",
       "50%      9678.000000     360.000000     150.000000     226.000000   \n",
       "75%     14184.000000     512.000000     150.000000     226.000000   \n",
       "max     18396.000000     600.000000     231.000000     237.000000   \n",
       "\n",
       "               addr1          addr2  ...           V312           V313  \\\n",
       "count  590540.000000  590540.000000  ...  590540.000000  590540.000000   \n",
       "mean      291.653527      86.822813  ...      39.173114      21.305592   \n",
       "std        95.949345       2.537300  ...     172.126681      95.804974   \n",
       "min       100.000000      10.000000  ...       0.000000       0.000000   \n",
       "25%       205.000000      87.000000  ...       0.000000       0.000000   \n",
       "50%       299.000000      87.000000  ...       0.000000       0.000000   \n",
       "75%       327.000000      87.000000  ...       0.000000       0.000000   \n",
       "max       540.000000     102.000000  ...   55125.000000    4817.470215   \n",
       "\n",
       "                V314           V315           V316           V317  \\\n",
       "count  590540.000000  590540.000000  590540.000000  590540.000000   \n",
       "mean       43.226087      26.749372     109.816313     247.601710   \n",
       "std       173.443984     116.734202    2270.010192    3980.002546   \n",
       "min         0.000000       0.000000       0.000000       0.000000   \n",
       "25%         0.000000       0.000000       0.000000       0.000000   \n",
       "50%         0.000000       0.000000       0.000000       0.000000   \n",
       "75%         0.000000       0.000000       0.000000       0.000000   \n",
       "max      7519.870117    4817.470215   93736.000000  134021.000000   \n",
       "\n",
       "                V318           V319           V320           V321  \n",
       "count  590540.000000  590540.000000  590540.000000  590540.000000  \n",
       "mean      162.150103      18.372102      42.072278      28.326009  \n",
       "std      2793.315350     332.301482     473.494534     382.049311  \n",
       "min         0.000000       0.000000       0.000000       0.000000  \n",
       "25%         0.000000       0.000000       0.000000       0.000000  \n",
       "50%         0.000000       0.000000       0.000000       0.000000  \n",
       "75%         0.000000       0.000000       0.000000       0.000000  \n",
       "max     98476.000000  104060.000000  104060.000000  104060.000000  \n",
       "\n",
       "[8 rows x 325 columns]"
      ]
     },
     "execution_count": 23,
     "metadata": {},
     "output_type": "execute_result"
    }
   ],
   "source": [
    "df.describe()"
   ]
  },
  {
   "cell_type": "code",
   "execution_count": 24,
   "metadata": {
    "colab": {
     "base_uri": "https://localhost:8080/",
     "height": 932
    },
    "id": "3hOsMUyEE95r",
    "outputId": "5c4c99b3-82d1-45f6-8217-32c7abcd330c"
   },
   "outputs": [
    {
     "data": {
      "image/png": "[encoded data removed]",
      "text/plain": [
       "<Figure size 1080x1080 with 2 Axes>"
      ]
     },
     "metadata": {
      "needs_background": "light"
     },
     "output_type": "display_data"
    }
   ],
   "source": [
    "##Correlation plot\n",
    "plt.subplots(figsize=(15,15))\n",
    "sns.set(font_scale=2)\n",
    "sns.heatmap(df.corr(), annot=True)\n",
    "plt.show()"
   ]
  },
  {
   "cell_type": "code",
   "execution_count": 25,
   "metadata": {
    "colab": {
     "base_uri": "https://localhost:8080/"
    },
    "id": "Q-VL38CpYzbr",
    "outputId": "6958f006-aae9-42ea-dd2e-efc0127843c7"
   },
   "outputs": [
    {
     "data": {
      "text/plain": [
       "(590540, 339)"
      ]
     },
     "execution_count": 25,
     "metadata": {},
     "output_type": "execute_result"
    }
   ],
   "source": [
    "df.shape"
   ]
  },
  {
   "cell_type": "code",
   "execution_count": 26,
   "metadata": {
    "id": "qmgmk48GZW6r"
   },
   "outputs": [],
   "source": [
    "correlation = df.corr()"
   ]
  },
  {
   "cell_type": "code",
   "execution_count": 27,
   "metadata": {
    "colab": {
     "base_uri": "https://localhost:8080/"
    },
    "id": "ra5w0zs4ZLFQ",
    "outputId": "792da6c2-c31f-4c64-b6e7-3d4a3f524533"
   },
   "outputs": [
    {
     "data": {
      "text/plain": [
       "isFraud    1.000000\n",
       "V257       0.280214\n",
       "V246       0.268090\n",
       "V244       0.265712\n",
       "V242       0.263476\n",
       "             ...   \n",
       "V91       -0.098592\n",
       "V70       -0.099106\n",
       "V69       -0.102396\n",
       "V90       -0.102635\n",
       "V29       -0.102738\n",
       "Name: isFraud, Length: 325, dtype: float64"
      ]
     },
     "execution_count": 27,
     "metadata": {},
     "output_type": "execute_result"
    }
   ],
   "source": [
    "correlation_val = correlation['isFraud'].sort_values(ascending = False)\n",
    "correlation_val"
   ]
  },
  {
   "cell_type": "markdown",
   "metadata": {
    "id": "MccmuhO0Po76"
   },
   "source": [
    "# Label encoding (Converting all Categorical values into nummericals)\n",
    "\n"
   ]
  },
  {
   "cell_type": "code",
   "execution_count": 28,
   "metadata": {
    "id": "FCBg_NO-ZBYY"
   },
   "outputs": [],
   "source": [
    "l = []\n",
    "for i in range (len(correlation_val)):\n",
    "    if correlation_val[i] > 0:\n",
    "        l.append(correlation_val.index[i])"
   ]
  },
  {
   "cell_type": "code",
   "execution_count": 29,
   "metadata": {
    "id": "BnagIl3Haccy"
   },
   "outputs": [],
   "source": [
    "from sklearn.preprocessing import LabelEncoder\n",
    "from imblearn.over_sampling import SMOTE\n",
    "import math\n",
    "from imblearn.under_sampling import RandomUnderSampler\n",
    "from sklearn.model_selection import train_test_split"
   ]
  },
  {
   "cell_type": "code",
   "execution_count": 30,
   "metadata": {
    "colab": {
     "base_uri": "https://localhost:8080/"
    },
    "id": "KKeDVTzcaNgR",
    "outputId": "320fd859-56b1-44d8-e6e8-2a271e4ce07f"
   },
   "outputs": [
    {
     "data": {
      "text/plain": [
       "['ProductCD',\n",
       " 'card4',\n",
       " 'card6',\n",
       " 'P_emaildomain',\n",
       " 'R_emaildomain',\n",
       " 'M1',\n",
       " 'M2',\n",
       " 'M3',\n",
       " 'M4',\n",
       " 'M5',\n",
       " 'M6',\n",
       " 'M7',\n",
       " 'M8',\n",
       " 'M9']"
      ]
     },
     "execution_count": 30,
     "metadata": {},
     "output_type": "execute_result"
    }
   ],
   "source": [
    "enconder = LabelEncoder()\n",
    "o = []\n",
    "for i in df.columns:\n",
    "    if df.dtypes[i] == 'O':\n",
    "        o.append(i)\n",
    "o"
   ]
  },
  {
   "cell_type": "code",
   "execution_count": 31,
   "metadata": {
    "id": "ZPkji4S5aleZ"
   },
   "outputs": [],
   "source": [
    "for i in o:\n",
    "    df[i] = enconder.fit_transform(df[i])"
   ]
  },
  {
   "cell_type": "code",
   "execution_count": 32,
   "metadata": {
    "colab": {
     "base_uri": "https://localhost:8080/"
    },
    "id": "JKO9mw07caND",
    "outputId": "84d67926-ec82-4672-ab40-276eadda9e9f"
   },
   "outputs": [
    {
     "data": {
      "text/plain": [
       "(590540, 339)"
      ]
     },
     "execution_count": 32,
     "metadata": {},
     "output_type": "execute_result"
    }
   ],
   "source": [
    "df.shape"
   ]
  },
  {
   "cell_type": "code",
   "execution_count": 33,
   "metadata": {
    "id": "YtBPZHXlw-mY"
   },
   "outputs": [],
   "source": [
    "from sklearn.preprocessing import MinMaxScaler,RobustScaler"
   ]
  },
  {
   "cell_type": "code",
   "execution_count": 34,
   "metadata": {
    "colab": {
     "base_uri": "https://localhost:8080/"
    },
    "id": "g5uPWXdhw7dF",
    "outputId": "301dd818-e472-4529-a570-6e6423ce0e65"
   },
   "outputs": [
    {
     "name": "stderr",
     "output_type": "stream",
     "text": [
      "/usr/local/lib/python3.7/dist-packages/ipykernel_launcher.py:4: UserWarning: Pandas doesn't allow columns to be created via a new attribute name - see https://pandas.pydata.org/pandas-docs/stable/indexing.html#attribute-access\n",
      "  after removing the cwd from sys.path.\n"
     ]
    }
   ],
   "source": [
    "\n",
    "scaler =RobustScaler()\n",
    "amount = df.TransactionAmt\n",
    "df.Amount = scaler.fit_transform(np.array(amount).reshape(-1,1))\n"
   ]
  },
  {
   "cell_type": "code",
   "execution_count": 95,
   "metadata": {
    "colab": {
     "base_uri": "https://localhost:8080/",
     "height": 467
    },
    "id": "HojHmoj8xSYg",
    "outputId": "9c463530-24ae-4b60-cd15-1d44717abe50"
   },
   "outputs": [
    {
     "name": "stdout",
     "output_type": "stream",
     "text": [
      "0    0.96501\n",
      "1    0.03499\n",
      "Name: isFraud, dtype: float64\n",
      "0    569877\n",
      "1     20663\n",
      "Name: isFraud, dtype: int64\n"
     ]
    },
    {
     "data": {
      "image/png": "[encoded data removed]",
      "text/plain": [
       "<Figure size 432x288 with 1 Axes>"
      ]
     },
     "metadata": {},
     "output_type": "display_data"
    }
   ],
   "source": [
    "df.isFraud.value_counts(normalize=True).plot(kind='bar')\n",
    "plt.xticks([0,1],['Normal','Fraud'])\n",
    "plt.title('Target Class data distribution')\n",
    "plt.grid()\n",
    "print(df.isFraud.value_counts(normalize=True))\n",
    "print(df.isFraud.value_counts())"
   ]
  },
  {
   "cell_type": "markdown",
   "metadata": {
    "id": "mHvAaReN2Avm"
   },
   "source": [
    "# Sampling Methods"
   ]
  },
  {
   "cell_type": "code",
   "execution_count": 36,
   "metadata": {
    "colab": {
     "base_uri": "https://localhost:8080/"
    },
    "id": "fFUCq7230Eb3",
    "outputId": "e751d2d6-46bd-4f61-c872-72c5ae92dfa0"
   },
   "outputs": [
    {
     "name": "stdout",
     "output_type": "stream",
     "text": [
      "472432 118108\n"
     ]
    }
   ],
   "source": [
    "train_idx = math.ceil(len(df) * 0.8)\n",
    "test_idx = math.ceil(len(df) * 0.2)\n",
    "print(train_idx,test_idx)"
   ]
  },
  {
   "cell_type": "code",
   "execution_count": 37,
   "metadata": {
    "colab": {
     "base_uri": "https://localhost:8080/"
    },
    "id": "e8A0WQb90InB",
    "outputId": "636b59ba-9495-4711-a725-c8597a9c9806"
   },
   "outputs": [
    {
     "name": "stdout",
     "output_type": "stream",
     "text": [
      "(472432, 339) (118108, 339)\n"
     ]
    }
   ],
   "source": [
    "train = df[:train_idx]\n",
    "test  = df[-test_idx:]\n",
    "print(train.shape,test.shape)"
   ]
  },
  {
   "cell_type": "code",
   "execution_count": 38,
   "metadata": {
    "colab": {
     "base_uri": "https://localhost:8080/"
    },
    "id": "OuRrpUTT0J-A",
    "outputId": "ff828c52-9fd2-4779-aa30-c19fec39eaaf"
   },
   "outputs": [
    {
     "name": "stdout",
     "output_type": "stream",
     "text": [
      "(472432, 338) (472432,)\n"
     ]
    }
   ],
   "source": [
    "x_train = train.drop('isFraud',axis=1)\n",
    "y_train = train.isFraud\n",
    "print(x_train.shape,y_train.shape)"
   ]
  },
  {
   "cell_type": "code",
   "execution_count": 39,
   "metadata": {
    "colab": {
     "base_uri": "https://localhost:8080/"
    },
    "id": "36tS6Ypj0SfD",
    "outputId": "5f97c19d-0dd8-4765-b450-8690f6498db4"
   },
   "outputs": [
    {
     "name": "stdout",
     "output_type": "stream",
     "text": [
      "(118108, 338) (118108,)\n"
     ]
    }
   ],
   "source": [
    "x_test = test.drop('isFraud',axis=1)\n",
    "y_test = test.isFraud\n",
    "print(x_test.shape,y_test.shape)"
   ]
  },
  {
   "cell_type": "code",
   "execution_count": 40,
   "metadata": {
    "id": "MQGLvXtO0X9V"
   },
   "outputs": [],
   "source": [
    "oversample = SMOTE(random_state=0)\n",
    "undersample = RandomUnderSampler(random_state=0)\n"
   ]
  },
  {
   "cell_type": "markdown",
   "metadata": {
    "id": "e3ZxQOlm2Qko"
   },
   "source": [
    "#Oversampling"
   ]
  },
  {
   "cell_type": "code",
   "execution_count": 41,
   "metadata": {
    "colab": {
     "base_uri": "https://localhost:8080/"
    },
    "id": "5t04zEPN0b-G",
    "outputId": "21e93b02-d97e-42ae-b892-7f6f6b4d558c"
   },
   "outputs": [
    {
     "name": "stdout",
     "output_type": "stream",
     "text": [
      "(911666, 338) (911666,)\n"
     ]
    }
   ],
   "source": [
    "x_train_over,y_train_over = oversample.fit_resample(x_train,y_train)\n",
    "print(x_train_over.shape,y_train_over.shape)"
   ]
  },
  {
   "cell_type": "code",
   "execution_count": 94,
   "metadata": {
    "colab": {
     "base_uri": "https://localhost:8080/",
     "height": 467
    },
    "id": "i47GjZsA0fx1",
    "outputId": "d8f18462-ceae-4bd3-af49-25ea3ac0cbf0"
   },
   "outputs": [
    {
     "name": "stdout",
     "output_type": "stream",
     "text": [
      "0    0.5\n",
      "1    0.5\n",
      "Name: isFraud, dtype: float64\n",
      "0    455833\n",
      "1    455833\n",
      "Name: isFraud, dtype: int64\n"
     ]
    },
    {
     "data": {
      "image/png": "[encoded data removed]",
      "text/plain": [
       "<Figure size 432x288 with 1 Axes>"
      ]
     },
     "metadata": {},
     "output_type": "display_data"
    }
   ],
   "source": [
    "y_train_over.value_counts(normalize=True).plot(kind='bar')\n",
    "plt.xticks([0,1],['Normal','Fraud'])\n",
    "plt.title('Target Class data distribution Oversampling')\n",
    "plt.grid()\n",
    "print(y_train_over.value_counts(normalize=True))\n",
    "print(y_train_over.value_counts())"
   ]
  },
  {
   "cell_type": "code",
   "execution_count": 42,
   "metadata": {
    "id": "P18SfSUG2Whm"
   },
   "outputs": [],
   "source": []
  },
  {
   "cell_type": "markdown",
   "metadata": {
    "id": "hUoCpfqx3BMF"
   },
   "source": [
    "# Model building for oversampling data"
   ]
  },
  {
   "cell_type": "code",
   "execution_count": 43,
   "metadata": {
    "id": "inyA24ob6ern"
   },
   "outputs": [],
   "source": [
    "import numpy as np\n",
    "import pandas as pd\n",
    "import matplotlib\n",
    "import matplotlib.pyplot as plt\n",
    "\n",
    "#Importing all machine learining packages\n",
    "import sklearn\n",
    "import seaborn as sns\n",
    "from sklearn.model_selection import train_test_split\n",
    "from sklearn.preprocessing import StandardScaler\n",
    "from sklearn.decomposition import PCA\n",
    "from sklearn.ensemble import RandomForestClassifier\n",
    "from sklearn.linear_model import LogisticRegression\n",
    "from xgboost import XGBClassifier\n",
    "\n",
    "\n",
    "\n",
    "#output performance metrices\n",
    "from sklearn.metrics import confusion_matrix\n",
    "from sklearn.metrics import accuracy_score\n",
    "from sklearn.metrics import classification_report\n",
    "from sklearn.metrics import f1_score\n",
    "from sklearn.metrics import roc_auc_score\n",
    "from sklearn.metrics import precision_score\n",
    "from sklearn.metrics import recall_score\n",
    "\n",
    "\n",
    "\n",
    "# from skopt import BayesSearchCV\n",
    "from sklearn.model_selection import GridSearchCV\n",
    "from sklearn.model_selection import RandomizedSearchCV\n",
    "from sklearn.model_selection import RepeatedKFold"
   ]
  },
  {
   "cell_type": "code",
   "execution_count": 43,
   "metadata": {
    "id": "Cle23UF42nqZ"
   },
   "outputs": [],
   "source": []
  },
  {
   "cell_type": "code",
   "execution_count": 44,
   "metadata": {
    "colab": {
     "base_uri": "https://localhost:8080/"
    },
    "id": "2YRARBGM7LvC",
    "outputId": "e3ae3166-c6ec-4246-f452-8742f784977d"
   },
   "outputs": [
    {
     "name": "stderr",
     "output_type": "stream",
     "text": [
      "/usr/local/lib/python3.7/dist-packages/sklearn/linear_model/_logistic.py:818: ConvergenceWarning: lbfgs failed to converge (status=1):\n",
      "STOP: TOTAL NO. of ITERATIONS REACHED LIMIT.\n",
      "\n",
      "Increase the number of iterations (max_iter) or scale the data as shown in:\n",
      "    https://scikit-learn.org/stable/modules/preprocessing.html\n",
      "Please also refer to the documentation for alternative solver options:\n",
      "    https://scikit-learn.org/stable/modules/linear_model.html#logistic-regression\n",
      "  extra_warning_msg=_LOGISTIC_SOLVER_CONVERGENCE_MSG,\n"
     ]
    }
   ],
   "source": [
    "classifier = LogisticRegression() # importing logistic regression and storing in variable Classifier\n",
    "classifier.fit(x_train_over,y_train_over) #fitting the train and test data into the model\n",
    "y_lr=classifier.predict(x_test) #finding the predictions using X_test values"
   ]
  },
  {
   "cell_type": "code",
   "execution_count": 45,
   "metadata": {
    "colab": {
     "base_uri": "https://localhost:8080/"
    },
    "id": "L3yX-vS_8JJ2",
    "outputId": "b3006853-60e9-4af4-ca6c-6bc6d338821f"
   },
   "outputs": [
    {
     "name": "stdout",
     "output_type": "stream",
     "text": [
      "Confusion Matrix \n",
      " [[47636   561]\n",
      " [66408  3503]]\n",
      "\n",
      "Accuracy Score \n",
      " 0.4329850645172215\n",
      "\n",
      "Classification Report \n",
      "               precision    recall  f1-score   support\n",
      "\n",
      "           0       0.42      0.99      0.59     48197\n",
      "           1       0.86      0.05      0.09     69911\n",
      "\n",
      "    accuracy                           0.43    118108\n",
      "   macro avg       0.64      0.52      0.34    118108\n",
      "weighted avg       0.68      0.43      0.30    118108\n",
      "\n"
     ]
    }
   ],
   "source": [
    "print('Confusion Matrix \\n',confusion_matrix(y_lr,y_test)) # confusion matrix is for finding the misclassification in the data, using predicted values and y_test values\n",
    "print()\n",
    "print('Accuracy Score \\n', accuracy_score(y_lr,y_test)) #Accurcy score for predicted values and y_test values\n",
    "print()\n",
    "print('Classification Report \\n',classification_report(y_lr,y_test)) #classification report for preidicted values and y_test values"
   ]
  },
  {
   "cell_type": "code",
   "execution_count": 46,
   "metadata": {
    "colab": {
     "base_uri": "https://localhost:8080/"
    },
    "id": "xl1QBXni-Qq6",
    "outputId": "0a2cb62d-06df-4c0d-c7af-54b85ea23aba"
   },
   "outputs": [
    {
     "name": "stdout",
     "output_type": "stream",
     "text": [
      "        Actual value  Predicted value\n",
      "472432             1                1\n",
      "472433             0                1\n",
      "472434             0                1\n",
      "472435             0                1\n",
      "472436             0                1\n",
      "472437             0                1\n",
      "472438             0                1\n",
      "472439             0                0\n",
      "472440             0                0\n",
      "472441             0                1\n"
     ]
    }
   ],
   "source": [
    "#comparing the actual vs predicted values\n",
    "y_pred = classifier.predict(x_test).reshape(x_test.shape[0],)\n",
    "pred_df = pd.DataFrame({'Actual value':y_test, 'Predicted value':y_pred}).astype('int64') \n",
    "\n",
    "print(pred_df.head(10))\n",
    "\n",
    "from sklearn.metrics import mean_absolute_error\n",
    "\n",
    "MAE_val = mean_absolute_error(y_true=pred_df['Actual value'], y_pred=pred_df['Predicted value'])"
   ]
  },
  {
   "cell_type": "code",
   "execution_count": 47,
   "metadata": {
    "colab": {
     "base_uri": "https://localhost:8080/"
    },
    "id": "lS3vfeq-3dMN",
    "outputId": "1231b823-7f26-4d7c-df4d-82db7992b409"
   },
   "outputs": [
    {
     "name": "stdout",
     "output_type": "stream",
     "text": [
      "Confusion Matrix \n",
      " [[109601   2312]\n",
      " [  4443   1752]]\n",
      "\n",
      "Accuracy Score \n",
      " 0.9428065838046533\n",
      "\n",
      "Classification Report \n",
      "               precision    recall  f1-score   support\n",
      "\n",
      "           0       0.96      0.98      0.97    111913\n",
      "           1       0.43      0.28      0.34      6195\n",
      "\n",
      "    accuracy                           0.94    118108\n",
      "   macro avg       0.70      0.63      0.66    118108\n",
      "weighted avg       0.93      0.94      0.94    118108\n",
      "\n"
     ]
    }
   ],
   "source": [
    "classifier2 = XGBClassifier()\n",
    "classifier2.fit(x_train_over,y_train_over)\n",
    "y_xg=classifier2.predict(x_test)\n",
    "\n",
    "print('Confusion Matrix \\n',confusion_matrix(y_xg,y_test))\n",
    "print()\n",
    "print('Accuracy Score \\n', accuracy_score(y_xg,y_test))\n",
    "print()\n",
    "print('Classification Report \\n',classification_report(y_xg,y_test))"
   ]
  },
  {
   "cell_type": "code",
   "execution_count": 48,
   "metadata": {
    "colab": {
     "base_uri": "https://localhost:8080/"
    },
    "id": "s6YkYzqN3g-v",
    "outputId": "6710b776-872b-4e31-ea01-4e7e439f9095"
   },
   "outputs": [
    {
     "name": "stdout",
     "output_type": "stream",
     "text": [
      "        Actual value  Predicted value\n",
      "472432             1                0\n",
      "472433             0                0\n",
      "472434             0                0\n",
      "472435             0                0\n",
      "472436             0                0\n",
      "472437             0                0\n",
      "472438             0                0\n",
      "472439             0                0\n",
      "472440             0                0\n",
      "472441             0                0\n"
     ]
    }
   ],
   "source": [
    "y_pred = classifier2.predict(x_test).reshape(x_test.shape[0],)\n",
    "pred_df = pd.DataFrame({'Actual value':y_test, 'Predicted value':y_pred}).astype('int64')\n",
    "\n",
    "print(pred_df.head(10))\n",
    "\n",
    "from sklearn.metrics import mean_absolute_error\n",
    "\n",
    "MAE_val = mean_absolute_error(y_true=pred_df['Actual value'], y_pred=pred_df['Predicted value'])"
   ]
  },
  {
   "cell_type": "code",
   "execution_count": 49,
   "metadata": {
    "colab": {
     "base_uri": "https://localhost:8080/"
    },
    "id": "CgaOL39k4imy",
    "outputId": "0aefb682-19eb-4523-f353-080b258a1185"
   },
   "outputs": [
    {
     "name": "stdout",
     "output_type": "stream",
     "text": [
      "Confusion Matrix \n",
      " [[113758   2782]\n",
      " [   286   1282]]\n",
      "\n",
      "Accuracy Score \n",
      " 0.9740237748501371\n",
      "\n",
      "Classification Report \n",
      "               precision    recall  f1-score   support\n",
      "\n",
      "           0       1.00      0.98      0.99    116540\n",
      "           1       0.32      0.82      0.46      1568\n",
      "\n",
      "    accuracy                           0.97    118108\n",
      "   macro avg       0.66      0.90      0.72    118108\n",
      "weighted avg       0.99      0.97      0.98    118108\n",
      "\n"
     ]
    }
   ],
   "source": [
    "classifier3 = RandomForestClassifier()\n",
    "classifier3.fit(x_train_over,y_train_over)\n",
    "y_rfc=classifier3.predict(x_test)\n",
    "print('Confusion Matrix \\n',confusion_matrix(y_rfc,y_test))\n",
    "print()\n",
    "print('Accuracy Score \\n', accuracy_score(y_rfc,y_test))\n",
    "print()\n",
    "print('Classification Report \\n',classification_report(y_rfc,y_test))"
   ]
  },
  {
   "cell_type": "code",
   "execution_count": 50,
   "metadata": {
    "colab": {
     "base_uri": "https://localhost:8080/"
    },
    "id": "7xesVVqT4xxW",
    "outputId": "ee1ccb83-2a5d-4a08-d44a-873e1be85d49"
   },
   "outputs": [
    {
     "name": "stdout",
     "output_type": "stream",
     "text": [
      "        Actual value  Predicted value\n",
      "472432             1                0\n",
      "472433             0                0\n",
      "472434             0                0\n",
      "472435             0                0\n",
      "472436             0                0\n",
      "472437             0                0\n",
      "472438             0                0\n",
      "472439             0                0\n",
      "472440             0                0\n",
      "472441             0                0\n"
     ]
    }
   ],
   "source": [
    "y_pred = classifier3.predict(x_test).reshape(x_test.shape[0],)\n",
    "pred_df = pd.DataFrame({'Actual value':y_test, 'Predicted value':y_pred}).astype('int64')\n",
    "\n",
    "print(pred_df.head(10))\n",
    "\n",
    "from sklearn.metrics import mean_absolute_error\n",
    "\n",
    "MAE_val = mean_absolute_error(y_true=pred_df['Actual value'], y_pred=pred_df['Predicted value'])"
   ]
  },
  {
   "cell_type": "code",
   "execution_count": 51,
   "metadata": {
    "id": "Uga3DHu25cXd"
   },
   "outputs": [],
   "source": [
    "from sklearn.tree import DecisionTreeClassifier"
   ]
  },
  {
   "cell_type": "code",
   "execution_count": 52,
   "metadata": {
    "id": "7WD35Gpr6VA-"
   },
   "outputs": [],
   "source": [
    "classifier4 = DecisionTreeClassifier(random_state=0)"
   ]
  },
  {
   "cell_type": "code",
   "execution_count": 53,
   "metadata": {
    "colab": {
     "base_uri": "https://localhost:8080/"
    },
    "id": "ygiMepka6ZVk",
    "outputId": "6dd08f79-37d5-4769-9f2a-dee14a906c29"
   },
   "outputs": [
    {
     "name": "stdout",
     "output_type": "stream",
     "text": [
      "Confusion Matrix \n",
      " [[105435   2466]\n",
      " [  8609   1598]]\n",
      "\n",
      "Accuracy Score \n",
      " 0.9062298912859417\n",
      "\n",
      "Classification Report \n",
      "               precision    recall  f1-score   support\n",
      "\n",
      "           0       0.92      0.98      0.95    107901\n",
      "           1       0.39      0.16      0.22     10207\n",
      "\n",
      "    accuracy                           0.91    118108\n",
      "   macro avg       0.66      0.57      0.59    118108\n",
      "weighted avg       0.88      0.91      0.89    118108\n",
      "\n"
     ]
    }
   ],
   "source": [
    "classifier4.fit(x_train_over,y_train_over)\n",
    "y_dc=classifier4.predict(x_test)\n",
    "print('Confusion Matrix \\n',confusion_matrix(y_dc,y_test))\n",
    "print()\n",
    "print('Accuracy Score \\n', accuracy_score(y_dc,y_test))\n",
    "print()\n",
    "print('Classification Report \\n',classification_report(y_dc,y_test))"
   ]
  },
  {
   "cell_type": "code",
   "execution_count": 54,
   "metadata": {
    "colab": {
     "base_uri": "https://localhost:8080/"
    },
    "id": "w9rpojE660qe",
    "outputId": "f7c143d3-9e05-4b24-e652-523d6a68e7a7"
   },
   "outputs": [
    {
     "name": "stdout",
     "output_type": "stream",
     "text": [
      "        Actual value  Predicted value\n",
      "472432             1                0\n",
      "472433             0                0\n",
      "472434             0                0\n",
      "472435             0                1\n",
      "472436             0                0\n",
      "472437             0                0\n",
      "472438             0                1\n",
      "472439             0                0\n",
      "472440             0                0\n",
      "472441             0                0\n"
     ]
    }
   ],
   "source": [
    "y_pred = classifier4.predict(x_test).reshape(x_test.shape[0],)\n",
    "pred_df = pd.DataFrame({'Actual value':y_test, 'Predicted value':y_pred}).astype('int64')\n",
    "\n",
    "print(pred_df.head(10))\n",
    "\n",
    "from sklearn.metrics import mean_absolute_error\n",
    "\n",
    "MAE_val = mean_absolute_error(y_true=pred_df['Actual value'], y_pred=pred_df['Predicted value'])"
   ]
  },
  {
   "cell_type": "code",
   "execution_count": 71,
   "metadata": {
    "id": "YxZESa8T25iH"
   },
   "outputs": [],
   "source": [
    "from sklearn.svm import SVC\n",
    "from sklearn.svm import LinearSVC"
   ]
  },
  {
   "cell_type": "code",
   "execution_count": 91,
   "metadata": {
    "colab": {
     "base_uri": "https://localhost:8080/"
    },
    "id": "9G2sigOO3DEA",
    "outputId": "36be88e1-89f2-4b5b-d79e-b3c30d261e54"
   },
   "outputs": [
    {
     "name": "stderr",
     "output_type": "stream",
     "text": [
      "/usr/local/lib/python3.7/dist-packages/sklearn/svm/_base.py:1208: ConvergenceWarning: Liblinear failed to converge, increase the number of iterations.\n",
      "  ConvergenceWarning,\n"
     ]
    },
    {
     "name": "stdout",
     "output_type": "stream",
     "text": [
      "Confusion Matrix \n",
      " [[     2      0]\n",
      " [114042   4064]]\n",
      "\n",
      "Accuracy Score \n",
      " 0.03442611846784299\n",
      "\n",
      "Classification Report \n",
      "               precision    recall  f1-score   support\n",
      "\n",
      "           0       0.00      1.00      0.00         2\n",
      "           1       1.00      0.03      0.07    118106\n",
      "\n",
      "    accuracy                           0.03    118108\n",
      "   macro avg       0.50      0.52      0.03    118108\n",
      "weighted avg       1.00      0.03      0.07    118108\n",
      "\n"
     ]
    }
   ],
   "source": [
    "classifier5=LinearSVC()\n",
    "classifier5.fit(x_train_over,y_train_over)\n",
    "y_svm=classifier5.predict(x_test)\n",
    "print('Confusion Matrix \\n',confusion_matrix(y_svm,y_test))\n",
    "print()\n",
    "print('Accuracy Score \\n', accuracy_score(y_svm,y_test))\n",
    "print()\n",
    "print('Classification Report \\n',classification_report(y_svm,y_test))\n"
   ]
  },
  {
   "cell_type": "code",
   "execution_count": 92,
   "metadata": {
    "colab": {
     "base_uri": "https://localhost:8080/"
    },
    "id": "d1hZZOH-4baO",
    "outputId": "82ed0fbd-9572-4024-d28b-6672d898dfcb"
   },
   "outputs": [
    {
     "name": "stdout",
     "output_type": "stream",
     "text": [
      "        Actual value  Predicted value\n",
      "472432             1                1\n",
      "472433             0                1\n",
      "472434             0                1\n",
      "472435             0                1\n",
      "472436             0                1\n",
      "472437             0                1\n",
      "472438             0                1\n",
      "472439             0                1\n",
      "472440             0                1\n",
      "472441             0                1\n"
     ]
    }
   ],
   "source": [
    "y_pred = classifier5.predict(x_test).reshape(x_test.shape[0],)\n",
    "pred_df = pd.DataFrame({'Actual value':y_test, 'Predicted value':y_pred}).astype('int64')\n",
    "\n",
    "print(pred_df.head(10))\n",
    "\n",
    "from sklearn.metrics import mean_absolute_error\n",
    "\n",
    "MAE_val = mean_absolute_error(y_true=pred_df['Actual value'], y_pred=pred_df['Predicted value'])"
   ]
  },
  {
   "cell_type": "code",
   "execution_count": 77,
   "metadata": {
    "id": "gZEkcWMJ7Xyv"
   },
   "outputs": [],
   "source": [
    "from sklearn.naive_bayes import GaussianNB"
   ]
  },
  {
   "cell_type": "code",
   "execution_count": 78,
   "metadata": {
    "colab": {
     "base_uri": "https://localhost:8080/"
    },
    "id": "5KqiAumP7Zn9",
    "outputId": "aac8c1e1-983f-4ef4-afab-4761182df0f1"
   },
   "outputs": [
    {
     "name": "stdout",
     "output_type": "stream",
     "text": [
      "Confusion Matrix \n",
      " [[27277   390]\n",
      " [86767  3674]]\n",
      "\n",
      "Accuracy Score \n",
      " 0.2620567616080198\n",
      "\n",
      "Classification Report \n",
      "               precision    recall  f1-score   support\n",
      "\n",
      "           0       0.24      0.99      0.38     27667\n",
      "           1       0.90      0.04      0.08     90441\n",
      "\n",
      "    accuracy                           0.26    118108\n",
      "   macro avg       0.57      0.51      0.23    118108\n",
      "weighted avg       0.75      0.26      0.15    118108\n",
      "\n"
     ]
    }
   ],
   "source": [
    "classifier6=GaussianNB()\n",
    "classifier6.fit(x_train_over,y_train_over)\n",
    "y_nb=classifier6.predict(x_test)\n",
    "print('Confusion Matrix \\n',confusion_matrix(y_nb,y_test))\n",
    "print()\n",
    "print('Accuracy Score \\n', accuracy_score(y_nb,y_test))\n",
    "print()\n",
    "print('Classification Report \\n',classification_report(y_nb,y_test))\n"
   ]
  },
  {
   "cell_type": "code",
   "execution_count": 79,
   "metadata": {
    "colab": {
     "base_uri": "https://localhost:8080/"
    },
    "id": "uqhTEEGs73UG",
    "outputId": "41819b00-da4b-4b49-dcce-e86ee14bd08d"
   },
   "outputs": [
    {
     "name": "stdout",
     "output_type": "stream",
     "text": [
      "        Actual value  Predicted value\n",
      "472432             1                1\n",
      "472433             0                1\n",
      "472434             0                1\n",
      "472435             0                1\n",
      "472436             0                1\n",
      "472437             0                1\n",
      "472438             0                1\n",
      "472439             0                0\n",
      "472440             0                0\n",
      "472441             0                1\n"
     ]
    }
   ],
   "source": [
    "y_pred = classifier6.predict(x_test).reshape(x_test.shape[0],)\n",
    "pred_df = pd.DataFrame({'Actual value':y_test, 'Predicted value':y_pred}).astype('int64')\n",
    "\n",
    "print(pred_df.head(10))\n",
    "\n",
    "from sklearn.metrics import mean_absolute_error\n",
    "\n",
    "MAE_val = mean_absolute_error(y_true=pred_df['Actual value'], y_pred=pred_df['Predicted value'])"
   ]
  },
  {
   "cell_type": "markdown",
   "metadata": {
    "id": "AJ_Q71r34iBB"
   },
   "source": []
  },
  {
   "cell_type": "code",
   "execution_count": 93,
   "metadata": {
    "colab": {
     "base_uri": "https://localhost:8080/",
     "height": 355
    },
    "id": "kvOFL6rmKPsA",
    "outputId": "d0743459-b673-4710-bfe0-6310888e3bec"
   },
   "outputs": [
    {
     "data": {
      "image/png": "[encoded data removed]",
      "text/plain": [
       "<Figure size 1296x1872 with 1 Axes>"
      ]
     },
     "metadata": {},
     "output_type": "display_data"
    }
   ],
   "source": [
    "lr_df = pd.DataFrame(data=[f1_score(y_test,y_lr),accuracy_score(y_test, y_lr), recall_score(y_test, y_lr), precision_score(y_test, y_lr), roc_auc_score(y_test, y_lr)], \n",
    "             columns=['Logistic Regression'], index=[\"F1\",\"Accuracy\", \"Recall\", \"Precision\", \"ROC AUC Score\"])\n",
    "rf_df = pd.DataFrame(data=[f1_score(y_test,y_rfc),accuracy_score(y_test, y_rfc), recall_score(y_test, y_rfc),precision_score(y_test, y_rfc), roc_auc_score(y_test, y_rfc)], \n",
    "             columns=['Random Forest Score'],index=[\"F1\",\"Accuracy\", \"Recall\", \"Precision\", \"ROC AUC Score\"])\n",
    "dt_df = pd.DataFrame(data=[f1_score(y_test,y_dc),accuracy_score(y_test, y_dc), recall_score(y_test, y_dc), precision_score(y_test, y_dc), roc_auc_score(y_test, y_dc)], \n",
    "             columns=['Decision tree'], index=[\"F1\",\"Accuracy\", \"Recall\", \"Precision\", \"ROC AUC Score\"])\n",
    "\n",
    "xg_df = pd.DataFrame(data=[f1_score(y_test,y_xg),accuracy_score(y_test, y_xg), recall_score(y_test, y_xg), precision_score(y_test, y_xg), roc_auc_score(y_test, y_xg)], \n",
    "             columns=['XG Boost'], index=[\"F1\",\"Accuracy\", \"Recall\", \"Precision\", \"ROC AUC Score\"])\n",
    "svm_df=pd.DataFrame(data=[f1_score(y_test,y_svm),accuracy_score(y_test, y_svm), recall_score(y_test, y_svm), precision_score(y_test, y_svm), roc_auc_score(y_test, y_svm)], \n",
    "             columns=['Support Vector Machine Model'], index=[\"F1\",\"Accuracy\", \"Recall\", \"Precision\", \"ROC AUC Score\"])\n",
    "nb_df=pd.DataFrame(data=[f1_score(y_test,y_nb),accuracy_score(y_test, y_nb), recall_score(y_test, y_nb), precision_score(y_test, y_nb), roc_auc_score(y_test, y_nb)], \n",
    "             columns=['Naive Bayes Model'], index=[\"F1\",\"Accuracy\", \"Recall\", \"Precision\", \"ROC AUC Score\"])\n",
    "\n",
    "\n",
    "df_models = round(pd.concat([lr_df,rf_df,dt_df,xg_df,svm_df,nb_df], axis=1),3)\n",
    "#colors = [\"bisque\",\"ivory\",\"sandybrown\"]\n",
    "colors = [\"bisque\",\"ivory\",\"sandybrown\",\"steelblue\"]\n",
    "colormap = matplotlib.colors.LinearSegmentedColormap.from_list(\"\", colors)\n",
    "\n",
    "background_color = \"white\"\n",
    "\n",
    "fig = plt.figure(figsize=(18,26)) # create figure\n",
    "gs = fig.add_gridspec(4, 2)\n",
    "gs.update(wspace=0.1, hspace=0.5)\n",
    "ax0 = fig.add_subplot(gs[0, :])\n",
    "\n",
    "sns.heatmap(df_models.T, cmap=colormap,annot=True,fmt=\".1%\",vmin=0,vmax=0.95, linewidths=2.5,cbar=False,ax=ax0,annot_kws={\"fontsize\":16})\n",
    "fig.patch.set_facecolor(background_color) # figure background color\n",
    "ax0.set_facecolor(background_color) \n",
    "\n",
    "ax0.text(0,-0.5,'Model Comparison for oversampling',fontsize=20,fontweight='bold',fontfamily='serif')\n",
    "plt.show()"
   ]
  },
  {
   "cell_type": "markdown",
   "metadata": {
    "id": "pa732b8SLyiM"
   },
   "source": [
    "# Model Building for Undersampling data"
   ]
  },
  {
   "cell_type": "code",
   "execution_count": 56,
   "metadata": {
    "colab": {
     "base_uri": "https://localhost:8080/"
    },
    "id": "C17GdJz-0k1B",
    "outputId": "ba10b495-25c0-4f06-ca64-ea1395b2b881"
   },
   "outputs": [
    {
     "name": "stdout",
     "output_type": "stream",
     "text": [
      "(33198, 338) (33198,)\n"
     ]
    }
   ],
   "source": [
    "x_train_under, y_train_under = undersample.fit_resample(x_train,y_train)\n",
    "print(x_train_under.shape, y_train_under.shape)"
   ]
  },
  {
   "cell_type": "code",
   "execution_count": 57,
   "metadata": {
    "colab": {
     "base_uri": "https://localhost:8080/",
     "height": 467
    },
    "id": "t3J_PjfV0rba",
    "outputId": "c473fb8a-143b-45e7-9421-63225aca1517"
   },
   "outputs": [
    {
     "name": "stdout",
     "output_type": "stream",
     "text": [
      "0    0.5\n",
      "1    0.5\n",
      "Name: isFraud, dtype: float64\n",
      "0    16599\n",
      "1    16599\n",
      "Name: isFraud, dtype: int64\n"
     ]
    },
    {
     "data": {
      "image/png": "[encoded data removed]",
      "text/plain": [
       "<Figure size 432x288 with 1 Axes>"
      ]
     },
     "metadata": {},
     "output_type": "display_data"
    }
   ],
   "source": [
    "y_train_under.value_counts(normalize=True).plot(kind='bar')\n",
    "plt.xticks([0,1],['Normal','Fraud'])\n",
    "plt.title('Target Class data distribution Undersampling')\n",
    "plt.grid()\n",
    "print(y_train_under.value_counts(normalize=True))\n",
    "print(y_train_under.value_counts())"
   ]
  },
  {
   "cell_type": "markdown",
   "metadata": {
    "id": "QFHgg5arn2Gw"
   },
   "source": [
    "##Model Building"
   ]
  },
  {
   "cell_type": "code",
   "execution_count": 58,
   "metadata": {
    "colab": {
     "base_uri": "https://localhost:8080/"
    },
    "id": "lnx3VECs1cVF",
    "outputId": "01fa135c-e598-44b3-a23f-95a84763281c"
   },
   "outputs": [
    {
     "name": "stderr",
     "output_type": "stream",
     "text": [
      "/usr/local/lib/python3.7/dist-packages/sklearn/linear_model/_logistic.py:818: ConvergenceWarning: lbfgs failed to converge (status=1):\n",
      "STOP: TOTAL NO. of ITERATIONS REACHED LIMIT.\n",
      "\n",
      "Increase the number of iterations (max_iter) or scale the data as shown in:\n",
      "    https://scikit-learn.org/stable/modules/preprocessing.html\n",
      "Please also refer to the documentation for alternative solver options:\n",
      "    https://scikit-learn.org/stable/modules/linear_model.html#logistic-regression\n",
      "  extra_warning_msg=_LOGISTIC_SOLVER_CONVERGENCE_MSG,\n"
     ]
    }
   ],
   "source": [
    "classifier = LogisticRegression() # importing logistic regression and storing in variable Classifier\n",
    "classifier.fit(x_train_under,y_train_under) #fitting the train and test data into the model\n",
    "y_lr1=classifier.predict(x_test) #finding the predictions using X_test values"
   ]
  },
  {
   "cell_type": "code",
   "execution_count": 59,
   "metadata": {
    "colab": {
     "base_uri": "https://localhost:8080/"
    },
    "id": "cRmLNEof1nrv",
    "outputId": "1574c9d2-8c36-4493-cb39-2495f45b36ab"
   },
   "outputs": [
    {
     "name": "stdout",
     "output_type": "stream",
     "text": [
      "Confusion Matrix \n",
      " [[44738   492]\n",
      " [69306  3572]]\n",
      "\n",
      "Accuracy Score \n",
      " 0.4090324110136485\n",
      "\n",
      "Classification Report \n",
      "               precision    recall  f1-score   support\n",
      "\n",
      "           0       0.39      0.99      0.56     45230\n",
      "           1       0.88      0.05      0.09     72878\n",
      "\n",
      "    accuracy                           0.41    118108\n",
      "   macro avg       0.64      0.52      0.33    118108\n",
      "weighted avg       0.69      0.41      0.27    118108\n",
      "\n"
     ]
    }
   ],
   "source": [
    "print('Confusion Matrix \\n',confusion_matrix(y_lr1,y_test)) # confusion matrix is for finding the misclassification in the data, using predicted values and y_test values\n",
    "print()\n",
    "print('Accuracy Score \\n', accuracy_score(y_lr1,y_test)) #Accurcy score for predicted values and y_test values\n",
    "print()\n",
    "print('Classification Report \\n',classification_report(y_lr1,y_test)) #classification report for preidicted values and y_test values"
   ]
  },
  {
   "cell_type": "code",
   "execution_count": 60,
   "metadata": {
    "colab": {
     "base_uri": "https://localhost:8080/"
    },
    "id": "W7nLYTf1BAam",
    "outputId": "7082cafe-acf5-4842-cc7c-df5ea1e10eca"
   },
   "outputs": [
    {
     "name": "stdout",
     "output_type": "stream",
     "text": [
      "Confusion Matrix \n",
      " [[93478   954]\n",
      " [20566  3110]]\n",
      "\n",
      "Accuracy Score \n",
      " 0.8177938835641955\n",
      "\n",
      "Classification Report \n",
      "               precision    recall  f1-score   support\n",
      "\n",
      "           0       0.82      0.99      0.90     94432\n",
      "           1       0.77      0.13      0.22     23676\n",
      "\n",
      "    accuracy                           0.82    118108\n",
      "   macro avg       0.79      0.56      0.56    118108\n",
      "weighted avg       0.81      0.82      0.76    118108\n",
      "\n"
     ]
    }
   ],
   "source": [
    "classifier_xg = XGBClassifier()\n",
    "classifier_xg.fit(x_train_under,y_train_under)\n",
    "y_xg1=classifier_xg.predict(x_test)\n",
    "\n",
    "print('Confusion Matrix \\n',confusion_matrix(y_xg1,y_test))\n",
    "print()\n",
    "print('Accuracy Score \\n', accuracy_score(y_xg1,y_test))\n",
    "print()\n",
    "print('Classification Report \\n',classification_report(y_xg1,y_test))"
   ]
  },
  {
   "cell_type": "code",
   "execution_count": 61,
   "metadata": {
    "colab": {
     "base_uri": "https://localhost:8080/"
    },
    "id": "TtbWb1C2IKKk",
    "outputId": "ebd278e6-e3f8-41bb-a087-4d3c57f37ae8"
   },
   "outputs": [
    {
     "name": "stdout",
     "output_type": "stream",
     "text": [
      "        Actual value  Predicted value\n",
      "472432             1                0\n",
      "472433             0                0\n",
      "472434             0                1\n",
      "472435             0                1\n",
      "472436             0                0\n",
      "472437             0                0\n",
      "472438             0                0\n",
      "472439             0                0\n",
      "472440             0                0\n",
      "472441             0                0\n"
     ]
    }
   ],
   "source": [
    "y_pred = classifier_xg.predict(x_test).reshape(x_test.shape[0],)\n",
    "pred_df = pd.DataFrame({'Actual value':y_test, 'Predicted value':y_pred}).astype('int64')\n",
    "\n",
    "print(pred_df.head(10))\n",
    "\n",
    "from sklearn.metrics import mean_absolute_error\n",
    "\n",
    "MAE_val = mean_absolute_error(y_true=pred_df['Actual value'], y_pred=pred_df['Predicted value'])"
   ]
  },
  {
   "cell_type": "code",
   "execution_count": 62,
   "metadata": {
    "colab": {
     "base_uri": "https://localhost:8080/"
    },
    "id": "eD2fjJU1ITbQ",
    "outputId": "4453e270-e263-4e55-8afe-1feb8958a3c3"
   },
   "outputs": [
    {
     "name": "stdout",
     "output_type": "stream",
     "text": [
      "Confusion Matrix \n",
      " [[98012   989]\n",
      " [16032  3075]]\n",
      "\n",
      "Accuracy Score \n",
      " 0.8558861381108815\n",
      "\n",
      "Classification Report \n",
      "               precision    recall  f1-score   support\n",
      "\n",
      "           0       0.86      0.99      0.92     99001\n",
      "           1       0.76      0.16      0.27     19107\n",
      "\n",
      "    accuracy                           0.86    118108\n",
      "   macro avg       0.81      0.58      0.59    118108\n",
      "weighted avg       0.84      0.86      0.81    118108\n",
      "\n"
     ]
    }
   ],
   "source": [
    "classifier_rf = RandomForestClassifier()\n",
    "classifier_rf.fit(x_train_under,y_train_under)\n",
    "y_rfc1=classifier_rf.predict(x_test)\n",
    "print('Confusion Matrix \\n',confusion_matrix(y_rfc1,y_test))\n",
    "print()\n",
    "print('Accuracy Score \\n', accuracy_score(y_rfc1,y_test))\n",
    "print()\n",
    "print('Classification Report \\n',classification_report(y_rfc1,y_test))"
   ]
  },
  {
   "cell_type": "code",
   "execution_count": 63,
   "metadata": {
    "colab": {
     "base_uri": "https://localhost:8080/"
    },
    "id": "TKrOiDkHIXMG",
    "outputId": "bc814096-df75-43eb-8e7e-f716ee255f6c"
   },
   "outputs": [
    {
     "name": "stdout",
     "output_type": "stream",
     "text": [
      "        Actual value  Predicted value\n",
      "472432             1                0\n",
      "472433             0                0\n",
      "472434             0                1\n",
      "472435             0                1\n",
      "472436             0                0\n",
      "472437             0                0\n",
      "472438             0                0\n",
      "472439             0                0\n",
      "472440             0                0\n",
      "472441             0                0\n"
     ]
    }
   ],
   "source": [
    "y_pred = classifier_rf.predict(x_test).reshape(x_test.shape[0],)\n",
    "pred_df = pd.DataFrame({'Actual value':y_test, 'Predicted value':y_pred}).astype('int64')\n",
    "\n",
    "print(pred_df.head(10))\n",
    "\n",
    "from sklearn.metrics import mean_absolute_error\n",
    "\n",
    "MAE_val = mean_absolute_error(y_true=pred_df['Actual value'], y_pred=pred_df['Predicted value'])"
   ]
  },
  {
   "cell_type": "code",
   "execution_count": 64,
   "metadata": {
    "id": "6IVJXnq0J1rd"
   },
   "outputs": [],
   "source": [
    "from sklearn.tree import DecisionTreeClassifier"
   ]
  },
  {
   "cell_type": "code",
   "execution_count": 65,
   "metadata": {
    "id": "uCHRoEUPIZ1A"
   },
   "outputs": [],
   "source": [
    "classifier_dt = DecisionTreeClassifier(random_state=0)"
   ]
  },
  {
   "cell_type": "code",
   "execution_count": 66,
   "metadata": {
    "colab": {
     "base_uri": "https://localhost:8080/"
    },
    "id": "5kS346bGJ-va",
    "outputId": "4fc81485-82a1-4edc-fd5f-4c2f083756a5"
   },
   "outputs": [
    {
     "name": "stdout",
     "output_type": "stream",
     "text": [
      "Confusion Matrix \n",
      " [[82129  1307]\n",
      " [31915  2757]]\n",
      "\n",
      "Accuracy Score \n",
      " 0.7187150743387408\n",
      "\n",
      "Classification Report \n",
      "               precision    recall  f1-score   support\n",
      "\n",
      "           0       0.72      0.98      0.83     83436\n",
      "           1       0.68      0.08      0.14     34672\n",
      "\n",
      "    accuracy                           0.72    118108\n",
      "   macro avg       0.70      0.53      0.49    118108\n",
      "weighted avg       0.71      0.72      0.63    118108\n",
      "\n"
     ]
    }
   ],
   "source": [
    "classifier_dt.fit(x_train_under,y_train_under)\n",
    "y_dc1=classifier_dt.predict(x_test)\n",
    "print('Confusion Matrix \\n',confusion_matrix(y_dc1,y_test))\n",
    "print()\n",
    "print('Accuracy Score \\n', accuracy_score(y_dc1,y_test))\n",
    "print()\n",
    "print('Classification Report \\n',classification_report(y_dc1,y_test))"
   ]
  },
  {
   "cell_type": "code",
   "execution_count": 67,
   "metadata": {
    "colab": {
     "base_uri": "https://localhost:8080/"
    },
    "id": "DMxkBXsIKJy-",
    "outputId": "8e9d5f93-e554-4942-88c1-3dbbcc8f6b1b"
   },
   "outputs": [
    {
     "name": "stdout",
     "output_type": "stream",
     "text": [
      "        Actual value  Predicted value\n",
      "472432             1                1\n",
      "472433             0                0\n",
      "472434             0                1\n",
      "472435             0                1\n",
      "472436             0                0\n",
      "472437             0                0\n",
      "472438             0                0\n",
      "472439             0                0\n",
      "472440             0                0\n",
      "472441             0                1\n"
     ]
    }
   ],
   "source": [
    "y_pred = classifier_dt.predict(x_test).reshape(x_test.shape[0],)\n",
    "pred_df = pd.DataFrame({'Actual value':y_test, 'Predicted value':y_pred}).astype('int64')\n",
    "\n",
    "print(pred_df.head(10))\n",
    "\n",
    "from sklearn.metrics import mean_absolute_error\n",
    "\n",
    "MAE_val = mean_absolute_error(y_true=pred_df['Actual value'], y_pred=pred_df['Predicted value'])"
   ]
  },
  {
   "cell_type": "code",
   "execution_count": 83,
   "metadata": {
    "id": "QPcnZ_CE6r98"
   },
   "outputs": [],
   "source": [
    "from sklearn.svm import SVC\n",
    "from sklearn.svm import LinearSVC"
   ]
  },
  {
   "cell_type": "code",
   "execution_count": 85,
   "metadata": {
    "colab": {
     "base_uri": "https://localhost:8080/"
    },
    "id": "wCR2xk7l5lBf",
    "outputId": "2e44b043-220b-4862-a5f2-3ff90aa3f42c"
   },
   "outputs": [
    {
     "name": "stdout",
     "output_type": "stream",
     "text": [
      "Confusion Matrix \n",
      " [[19090   847]\n",
      " [94954  3217]]\n",
      "\n",
      "Accuracy Score \n",
      " 0.1888695092627087\n",
      "\n",
      "Classification Report \n",
      "               precision    recall  f1-score   support\n",
      "\n",
      "           0       0.17      0.96      0.28     19937\n",
      "           1       0.79      0.03      0.06     98171\n",
      "\n",
      "    accuracy                           0.19    118108\n",
      "   macro avg       0.48      0.50      0.17    118108\n",
      "weighted avg       0.69      0.19      0.10    118108\n",
      "\n"
     ]
    }
   ],
   "source": [
    "classifier_svm=SVC()\n",
    "classifier_svm.fit(x_train_under,y_train_under)\n",
    "y_svm1=classifier_svm.predict(x_test)\n",
    "print('Confusion Matrix \\n',confusion_matrix(y_svm1,y_test))\n",
    "print()\n",
    "print('Accuracy Score \\n', accuracy_score(y_svm1,y_test))\n",
    "print()\n",
    "print('Classification Report \\n',classification_report(y_svm1,y_test))"
   ]
  },
  {
   "cell_type": "code",
   "execution_count": 86,
   "metadata": {
    "colab": {
     "base_uri": "https://localhost:8080/"
    },
    "id": "BswalBv26Qy9",
    "outputId": "e0a7bb3a-b59f-431f-e96b-7a3e8ee66258"
   },
   "outputs": [
    {
     "name": "stdout",
     "output_type": "stream",
     "text": [
      "        Actual value  Predicted value\n",
      "472432             1                1\n",
      "472433             0                1\n",
      "472434             0                1\n",
      "472435             0                1\n",
      "472436             0                1\n",
      "472437             0                1\n",
      "472438             0                1\n",
      "472439             0                1\n",
      "472440             0                1\n",
      "472441             0                1\n"
     ]
    }
   ],
   "source": [
    "y_pred = classifier_svm.predict(x_test).reshape(x_test.shape[0],)\n",
    "pred_df = pd.DataFrame({'Actual value':y_test, 'Predicted value':y_pred}).astype('int64')\n",
    "\n",
    "print(pred_df.head(10))\n",
    "\n",
    "from sklearn.metrics import mean_absolute_error\n",
    "\n",
    "MAE_val = mean_absolute_error(y_true=pred_df['Actual value'], y_pred=pred_df['Predicted value'])"
   ]
  },
  {
   "cell_type": "code",
   "execution_count": 87,
   "metadata": {
    "id": "OH2bArhG8CQR"
   },
   "outputs": [],
   "source": [
    "from sklearn.naive_bayes import GaussianNB"
   ]
  },
  {
   "cell_type": "code",
   "execution_count": 88,
   "metadata": {
    "colab": {
     "base_uri": "https://localhost:8080/"
    },
    "id": "7zPjrh3v8DZb",
    "outputId": "efc79d73-62e5-4c8d-b19c-467369c86430"
   },
   "outputs": [
    {
     "name": "stdout",
     "output_type": "stream",
     "text": [
      "Confusion Matrix \n",
      " [[106371   3202]\n",
      " [  7673    862]]\n",
      "\n",
      "Accuracy Score \n",
      " 0.9079232566803265\n",
      "\n",
      "Classification Report \n",
      "               precision    recall  f1-score   support\n",
      "\n",
      "           0       0.93      0.97      0.95    109573\n",
      "           1       0.21      0.10      0.14      8535\n",
      "\n",
      "    accuracy                           0.91    118108\n",
      "   macro avg       0.57      0.54      0.54    118108\n",
      "weighted avg       0.88      0.91      0.89    118108\n",
      "\n"
     ]
    }
   ],
   "source": [
    "classifier_nb=GaussianNB()\n",
    "classifier_nb.fit(x_train_under,y_train_under)\n",
    "y_nb1=classifier_nb.predict(x_test)\n",
    "print('Confusion Matrix \\n',confusion_matrix(y_nb1,y_test))\n",
    "print()\n",
    "print('Accuracy Score \\n', accuracy_score(y_nb1,y_test))\n",
    "print()\n",
    "print('Classification Report \\n',classification_report(y_nb1,y_test))"
   ]
  },
  {
   "cell_type": "code",
   "execution_count": 89,
   "metadata": {
    "colab": {
     "base_uri": "https://localhost:8080/"
    },
    "id": "Drw70IkS86ko",
    "outputId": "b6b39b8c-e38a-43bf-a2c3-d3bf517d4747"
   },
   "outputs": [
    {
     "name": "stdout",
     "output_type": "stream",
     "text": [
      "        Actual value  Predicted value\n",
      "472432             1                0\n",
      "472433             0                0\n",
      "472434             0                0\n",
      "472435             0                0\n",
      "472436             0                0\n",
      "472437             0                0\n",
      "472438             0                1\n",
      "472439             0                0\n",
      "472440             0                1\n",
      "472441             0                0\n"
     ]
    }
   ],
   "source": [
    "y_pred = classifier_nb.predict(x_test).reshape(x_test.shape[0],)\n",
    "pred_df = pd.DataFrame({'Actual value':y_test, 'Predicted value':y_pred}).astype('int64')\n",
    "\n",
    "print(pred_df.head(10))\n",
    "\n",
    "from sklearn.metrics import mean_absolute_error\n",
    "\n",
    "MAE_val = mean_absolute_error(y_true=pred_df['Actual value'], y_pred=pred_df['Predicted value'])"
   ]
  },
  {
   "cell_type": "code",
   "execution_count": 90,
   "metadata": {
    "colab": {
     "base_uri": "https://localhost:8080/",
     "height": 372
    },
    "id": "vcfa8XxwLHID",
    "outputId": "93c67c50-9472-4b95-c071-03fd6832cde5"
   },
   "outputs": [
    {
     "data": {
      "text/plain": [
       "Text(0, -0.5, 'Model Comparison for undersampling')"
      ]
     },
     "execution_count": 90,
     "metadata": {},
     "output_type": "execute_result"
    },
    {
     "data": {
      "image/png": "[encoded data removed]",
      "text/plain": [
       "<Figure size 1296x1872 with 1 Axes>"
      ]
     },
     "metadata": {},
     "output_type": "display_data"
    }
   ],
   "source": [
    "lr_df = pd.DataFrame(data=[f1_score(y_test,y_lr),accuracy_score(y_test, y_lr1), recall_score(y_test, y_lr1), precision_score(y_test, y_lr1), roc_auc_score(y_test, y_lr1)], \n",
    "             columns=['Logistic Regression'], index=[\"F1\",\"Accuracy\", \"Recall\", \"Precision\", \"ROC AUC Score\"])\n",
    "rf_df = pd.DataFrame(data=[f1_score(y_test,y_rfc1),accuracy_score(y_test, y_rfc1), recall_score(y_test, y_rfc1),precision_score(y_test, y_rfc1), roc_auc_score(y_test, y_rfc1)], \n",
    "             columns=['Random Forest Score'],index=[\"F1\",\"Accuracy\", \"Recall\", \"Precision\", \"ROC AUC Score\"])\n",
    "dt_df = pd.DataFrame(data=[f1_score(y_test,y_dc1),accuracy_score(y_test, y_dc1), recall_score(y_test, y_dc1), precision_score(y_test, y_dc1), roc_auc_score(y_test, y_dc1)], \n",
    "             columns=['Decision tree'], index=[\"F1\",\"Accuracy\", \"Recall\", \"Precision\", \"ROC AUC Score\"])\n",
    "\n",
    "xg_df = pd.DataFrame(data=[f1_score(y_test,y_xg1),accuracy_score(y_test, y_xg1), recall_score(y_test, y_xg1), precision_score(y_test, y_xg1), roc_auc_score(y_test, y_xg1)], \n",
    "             columns=['XG Boost'], index=[\"F1\",\"Accuracy\", \"Recall\", \"Precision\", \"ROC AUC Score\"])\n",
    "svm_df=pd.DataFrame(data=[f1_score(y_test,y_svm1),accuracy_score(y_test, y_svm1), recall_score(y_test, y_svm1), precision_score(y_test, y_svm1), roc_auc_score(y_test, y_svm1)], \n",
    "             columns=['Support Vector Machine Model'], index=[\"F1\",\"Accuracy\", \"Recall\", \"Precision\", \"ROC AUC Score\"])\n",
    "nb_df=pd.DataFrame(data=[f1_score(y_test,y_nb1),accuracy_score(y_test, y_nb1), recall_score(y_test, y_nb1), precision_score(y_test, y_nb1), roc_auc_score(y_test, y_nb1)], \n",
    "             columns=['Naive Bayes Model'], index=[\"F1\",\"Accuracy\", \"Recall\", \"Precision\", \"ROC AUC Score\"])\n",
    "\n",
    "\n",
    "df_models = round(pd.concat([lr_df,rf_df,dt_df,xg_df,svm_df,nb_df], axis=1),3)\n",
    "#colors = [\"bisque\",\"ivory\",\"sandybrown\"]\n",
    "colors = [\"bisque\",\"ivory\",\"sandybrown\",\"steelblue\"]\n",
    "colormap = matplotlib.colors.LinearSegmentedColormap.from_list(\"\", colors)\n",
    "\n",
    "background_color = \"white\"\n",
    "\n",
    "fig = plt.figure(figsize=(18,26)) # create figure\n",
    "gs = fig.add_gridspec(4, 2)\n",
    "gs.update(wspace=0.1, hspace=0.5)\n",
    "ax0 = fig.add_subplot(gs[0, :])\n",
    "\n",
    "sns.heatmap(df_models.T, cmap=colormap,annot=True,fmt=\".1%\",vmin=0,vmax=0.95, linewidths=2.5,cbar=False,ax=ax0,annot_kws={\"fontsize\":16})\n",
    "fig.patch.set_facecolor(background_color) # figure background color\n",
    "ax0.set_facecolor(background_color) \n",
    "\n",
    "ax0.text(0,-0.5,'Model Comparison for undersampling',fontsize=20,fontweight='bold',fontfamily='serif')"
   ]
  },
  {
   "cell_type": "code",
   "execution_count": 68,
   "metadata": {
    "id": "7MV7dIt5MjCF"
   },
   "outputs": [],
   "source": []
  }
 ],
 "metadata": {
  "accelerator": "GPU",
  "colab": {
   "collapsed_sections": [],
   "machine_shape": "hm",
   "name": "Copy of bindhu credit card fraud detection.ipynb",
   "provenance": []
  },
  "kernelspec": {
   "display_name": "Python 3 (ipykernel)",
   "language": "python",
   "name": "python3"
  },
  "language_info": {
   "codemirror_mode": {
    "name": "ipython",
    "version": 3
   },
   "file_extension": ".py",
   "mimetype": "text/x-python",
   "name": "python",
   "nbconvert_exporter": "python",
   "pygments_lexer": "ipython3",
   "version": "3.9.7"
  }
 },
 "nbformat": 4,
 "nbformat_minor": 1
}
